{
 "cells": [
  {
   "cell_type": "code",
   "execution_count": 1,
   "metadata": {},
   "outputs": [],
   "source": [
    "import numpy as np\n",
    "import math\n",
    "import random\n",
    "#from scipy.stats import unitary_group as ug"
   ]
  },
  {
   "cell_type": "code",
   "execution_count": 2,
   "metadata": {},
   "outputs": [],
   "source": [
    "def trap_bound(q, a, l):\n",
    "    return 2 * a * ((2/(q**2 * (q**2 + 1))) ** (a//2 + l)) * ((2*q/(q**2 + 1)) ** l) / (1 - a * ((2*q/(q**2 + 1)) ** l)) * q ** (2*a + 4*l)\n",
    "\n",
    "def partial_tr_bound(q, a, l):\n",
    "    return 4 * (4 ** a) * a * ((2*q/(q**2 + 1)) ** (2*l))"
   ]
  },
  {
   "cell_type": "code",
   "execution_count": 3,
   "metadata": {},
   "outputs": [],
   "source": [
    "#compute coefficients for entire circuit with product state input\n",
    "#n should be even, l >= 2, q >= 2\n",
    "def coeffs_product_state(q, n, l, lstep):\n",
    "    #useful defs\n",
    "    d = q**2\n",
    "    w = q/(q**2 + 1)\n",
    "    cn = 2**n\n",
    "    cm = 2**(n//2)\n",
    "    configs = {format(i, '0'+str(n)+'b'): i for i in range(cn)}\n",
    "    lastconfig = {}\n",
    "    for i in range(cm):\n",
    "        rep = format(i, '0'+str(n//2)+'b')\n",
    "        config = ''\n",
    "        for j in range(n//2):\n",
    "            config += rep[j] + rep[j]\n",
    "        lastconfig[config] = configs[config]\n",
    "    c = np.zeros(((l-1)*n//2 + 1, cn))\n",
    "    for cii in lastconfig:\n",
    "        c[0][lastconfig[cii]] = (1/d/(d+1))**(n//2)\n",
    "    offset = -1\n",
    "    nextconfig = {}\n",
    "    for t in range(1, l):\n",
    "        #print(t)\n",
    "        offset *= -1\n",
    "        for g in range(n//2 - 1):\n",
    "            j = (t-1)*n//2 + g + 1\n",
    "            #even layer: g, g-1 input\n",
    "            #odd layer: g, g+1 input\n",
    "            for config in lastconfig:\n",
    "                if config[2*g + 1] == config[2*g + 1 + offset]:\n",
    "                    nextconfig[config] = offset\n",
    "                    c[j][configs[config]] += c[j - 1][configs[config]]\n",
    "                elif offset > 0:\n",
    "                    config1 = config[:2*g + 1] + '00' + config[2*g + 3:]\n",
    "                    config2 = config[:2*g + 1] + '11' + config[2*g + 3:]\n",
    "                    nextconfig[config1] = offset\n",
    "                    nextconfig[config2] = offset\n",
    "                    c[j][configs[config1]] += c[j - 1][configs[config]] * w\n",
    "                    c[j][configs[config2]] += c[j - 1][configs[config]] * w\n",
    "                else:\n",
    "                    config1 = config[:2*g] + '00' + config[2*g + 2:]\n",
    "                    config2 = config[:2*g] + '11' + config[2*g + 2:]\n",
    "                    nextconfig[config1] = offset\n",
    "                    nextconfig[config2] = offset\n",
    "                    c[j][configs[config1]] += c[j - 1][configs[config]] * w\n",
    "                    c[j][configs[config2]] += c[j - 1][configs[config]] * w\n",
    "            #print(g)\n",
    "            #print(lastconfig)\n",
    "            #print(nextconfig)\n",
    "            #print()\n",
    "            lastconfig = nextconfig\n",
    "            nextconfig = {}\n",
    "        #last gate separately\n",
    "        j = t*n//2\n",
    "        g = -1\n",
    "        for config in lastconfig:\n",
    "            if config[2*g + 1] == config[2*g + 1 + offset]:\n",
    "                nextconfig[config] = offset\n",
    "                c[j][configs[config]] += c[j - 1][configs[config]]\n",
    "            elif offset < 0:\n",
    "                config1 = config[:-2] + '00'\n",
    "                config2 = config[:-2] + '11'\n",
    "                nextconfig[config1] = offset\n",
    "                nextconfig[config2] = offset\n",
    "                c[j][configs[config1]] += c[j - 1][configs[config]] * w\n",
    "                c[j][configs[config2]] += c[j - 1][configs[config]] * w\n",
    "            else:\n",
    "                config1 = '0' + config[1:-1] + '0'\n",
    "                config2 = '1' + config[1:-1] + '1'\n",
    "                nextconfig[config1] = offset\n",
    "                nextconfig[config2] = offset\n",
    "                c[j][configs[config1]] += c[j - 1][configs[config]] * w\n",
    "                c[j][configs[config2]] += c[j - 1][configs[config]] * w\n",
    "        #print(lastconfig)\n",
    "        #print(nextconfig)\n",
    "        lastconfig = nextconfig\n",
    "        nextconfig = {}\n",
    "    #print(lastconfig)\n",
    "    #print(c[-1])\n",
    "    #print(np.sum(c[-1]) - c[-1][0] - c[-1][-1])\n",
    "    return [c[lstep*i*n//2] for i in range(l//lstep)]"
   ]
  },
  {
   "cell_type": "code",
   "execution_count": 4,
   "metadata": {},
   "outputs": [],
   "source": [
    "#returns configurations with domain wall in region of specified size, q = 2, n >= a\n",
    "def configs_dw(n, a):\n",
    "    result = {}\n",
    "    configs = {format(i, '0'+str(n)+'b'): i for i in range(2**n)}\n",
    "    for cii in configs:\n",
    "        if ('0' in cii[:a]) and ('1' in cii[:a]):\n",
    "            result[cii] = configs[cii]\n",
    "    return result"
   ]
  },
  {
   "cell_type": "code",
   "execution_count": 13,
   "metadata": {},
   "outputs": [],
   "source": [
    "#compute trace norm given output coefficients\n",
    "def coeffs_trace_norm(c, q, n, select):\n",
    "    #TODO\n",
    "    if len(c) != 2**n:\n",
    "        print('Dimensions must match!')\n",
    "        return -1\n",
    "    if len(select) == 0:\n",
    "        return 0\n",
    "    if len(select[0]) != n:\n",
    "        print('Dimensions must match!')\n",
    "        return -1\n",
    "    #swap has q + q(q-1)/2 eigenvectors with +1 and q(q-1)/2 eigenvectors with -1\n",
    "    return -1\n",
    "\n",
    "#compute trace norm given output coefficients, q = 2\n",
    "def coeffs_trace_norm_2(c, n, select):\n",
    "    if len(c) != 2**n:\n",
    "        print('Dimensions must match!')\n",
    "        return -1\n",
    "    if len(select) == 0:\n",
    "        return 0\n",
    "    #swap has 3 eigenvectors with +1 and one with -1\n",
    "    evs = [format(np.base_repr(i, base=4), '>0' + str(n)) for i in range(4**n)]\n",
    "    coeffs = {}\n",
    "    coeffsum = 0\n",
    "    for ci in select:\n",
    "        if c[select[ci]] != 0:\n",
    "            coeffs[ci] = c[select[ci]]\n",
    "            coeffsum += c[select[ci]]\n",
    "    result = 0\n",
    "    #print(coeffsum)\n",
    "    for ev in evs:\n",
    "        if '3' in ev:\n",
    "            cosum = 0\n",
    "            for ci in coeffs:\n",
    "                sign = 1\n",
    "                for i in range(n):\n",
    "                    if (ci[i] == '1') and (ev[i] == '3'):\n",
    "                        sign *= -1\n",
    "                cosum += sign * coeffs[ci]\n",
    "            result += abs(cosum)\n",
    "            #print(cosum)\n",
    "        else:\n",
    "            result += coeffsum\n",
    "    return result\n",
    "\n",
    "#compute trace norm given output coefficients, q = 2\n",
    "def coeffs_trace_norm_2_i(c, n, select):\n",
    "    if len(c) != 2**n:\n",
    "        print('Dimensions must match!')\n",
    "        return -1\n",
    "    if len(select) == 0:\n",
    "        return 0\n",
    "    #swap has 3 eigenvectors with +1 and one with -1\n",
    "    evs = [format(i, '0'+str(n)+'b') for i in range(2**n)]\n",
    "    coeffs = {}\n",
    "    for ci in select:\n",
    "        if c[select[ci]] != 0:\n",
    "            coeffs[ci] = c[select[ci]]\n",
    "    result = 0\n",
    "    for ev in evs:\n",
    "        cosum = 0\n",
    "        w = ev.count('1')\n",
    "        for ci in coeffs:\n",
    "            sign = 1\n",
    "            for i in range(n):\n",
    "                if ev[i] == '1' and ci[i] == '1':\n",
    "                    sign *= -1\n",
    "            cosum += sign * coeffs[ci]\n",
    "        #print(w)\n",
    "        result += (3**w) * abs(cosum)\n",
    "        #print(cosum)\n",
    "    return result"
   ]
  },
  {
   "cell_type": "code",
   "execution_count": 6,
   "metadata": {},
   "outputs": [],
   "source": [
    "#compute coefficients for trapezoidal circuit\n",
    "#a should be even, l >= 2, q >= 2\n",
    "def coeffs_trap_product_state(q, a, l, lstep):\n",
    "    #useful defs\n",
    "    n = a + 2 * (l - 1)\n",
    "    d = q**2\n",
    "    w = q/(q**2 + 1)\n",
    "    cn = 2**n\n",
    "    cm = 2**(n//2)\n",
    "    configs = {format(i, '0'+str(n)+'b'): i for i in range(cn)}\n",
    "    lastconfig = {}\n",
    "    for i in range(cm):\n",
    "        rep = format(i, '0'+str(n//2)+'b')\n",
    "        config = ''\n",
    "        for j in range(n//2):\n",
    "            config += rep[j] + rep[j]\n",
    "        lastconfig[config] = configs[config]\n",
    "    c = np.zeros(((l-1)*(n//2 + a//2 - 1)//2 + 1, cn))\n",
    "    for cii in lastconfig:\n",
    "        c[0][lastconfig[cii]] = (1/d/(d+1))**(n//2)\n",
    "    offset = -1\n",
    "    nextconfig = {}\n",
    "    lsgates = [i for i in range(n//2 - 1)]\n",
    "    j = 0\n",
    "    for t in range(1, l):\n",
    "        #print(t)\n",
    "        offset *= -1\n",
    "        for g in lsgates:\n",
    "            j += 1\n",
    "            #even layer: g, g-1 input\n",
    "            #odd layer: g, g+1 input\n",
    "            for config in lastconfig:\n",
    "                if config[2*g + 1] == config[2*g + 1 + offset]:\n",
    "                    nextconfig[config] = offset\n",
    "                    c[j][configs[config]] += c[j - 1][configs[config]]\n",
    "                elif offset > 0:\n",
    "                    config1 = config[:2*g + 1] + '00' + config[2*g + 3:]\n",
    "                    config2 = config[:2*g + 1] + '11' + config[2*g + 3:]\n",
    "                    nextconfig[config1] = offset\n",
    "                    nextconfig[config2] = offset\n",
    "                    c[j][configs[config1]] += c[j - 1][configs[config]] * w\n",
    "                    c[j][configs[config2]] += c[j - 1][configs[config]] * w\n",
    "                else:\n",
    "                    config1 = config[:2*g] + '00' + config[2*g + 2:]\n",
    "                    config2 = config[:2*g] + '11' + config[2*g + 2:]\n",
    "                    nextconfig[config1] = offset\n",
    "                    nextconfig[config2] = offset\n",
    "                    c[j][configs[config1]] += c[j - 1][configs[config]] * w\n",
    "                    c[j][configs[config2]] += c[j - 1][configs[config]] * w\n",
    "            #print(g)\n",
    "            #print(lastconfig)\n",
    "            #print(nextconfig)\n",
    "            #print()\n",
    "            lastconfig = nextconfig\n",
    "            nextconfig = {}\n",
    "        #print(lastconfig)\n",
    "        #print(nextconfig)\n",
    "        del lsgates[(offset - 1)//2]\n",
    "        #print(lsgates)\n",
    "    #print(lastconfig)\n",
    "    #print(c[-1])\n",
    "    #print(np.sum(c[-1]) - c[-1][0] - c[-1][-1])\n",
    "    #print(j)\n",
    "    return [c[lstep*i*(n - lstep*i - 1)//2] for i in range(l//lstep)]"
   ]
  },
  {
   "cell_type": "code",
   "execution_count": null,
   "metadata": {},
   "outputs": [],
   "source": [
    "#compute coefficients for partial trace over output"
   ]
  },
  {
   "cell_type": "code",
   "execution_count": 183,
   "metadata": {},
   "outputs": [
    {
     "name": "stdout",
     "output_type": "stream",
     "text": [
      "24\n"
     ]
    }
   ],
   "source": [
    "q = 2\n",
    "l = 10\n",
    "lstep = 1\n",
    "for n in [24]:\n",
    "    c = coeffs_product_state(q, n, l, lstep)\n",
    "    print(n)\n",
    "    f = open('output/coeffs_product_state_' + str(n) + '_' + str(l) + '_' + str(lstep), 'w')\n",
    "    for t in range(len(c)):\n",
    "        f.writelines('%s\\n' % ci for ci in c[t])\n",
    "        f.write('\\n')\n",
    "    f.close()\n",
    "#dw = configs_dw(n, a)"
   ]
  },
  {
   "cell_type": "code",
   "execution_count": 181,
   "metadata": {},
   "outputs": [
    {
     "name": "stdout",
     "output_type": "stream",
     "text": [
      "1.4738071083256765\n",
      "1.7755958156628664\n",
      "2.1170770511079713\n"
     ]
    }
   ],
   "source": [
    "c = coeffs_product_state(2, 18, 6, 1)\n",
    "dw = configs_dw(18, 6)\n",
    "print(4**18 * np.sum([c[-1][dw[ci]] for ci in dw]))\n",
    "\n",
    "c = coeffs_product_state(2, 20, 6, 1)\n",
    "dw = configs_dw(20, 6)\n",
    "print(4**20 * np.sum([c[-1][dw[ci]] for ci in dw]))\n",
    "\n",
    "c = coeffs_product_state(2, 22, 6, 1)\n",
    "dw = configs_dw(22, 6)\n",
    "print(4**22 * np.sum([c[-1][dw[ci]] for ci in dw]))"
   ]
  },
  {
   "cell_type": "code",
   "execution_count": 185,
   "metadata": {},
   "outputs": [],
   "source": [
    "for n in range(10, 24, 2):\n",
    "    for a in [4, 6, 8]:\n",
    "        dw = configs_dw(n, a)\n",
    "        with open('output/configs_dw_' + str(n) + '_' + str(a), 'w') as f:\n",
    "            f.writelines('%s\\n' % cii for cii in [dw[cii] for cii in dw])"
   ]
  },
  {
   "cell_type": "code",
   "execution_count": 190,
   "metadata": {},
   "outputs": [
    {
     "name": "stdout",
     "output_type": "stream",
     "text": [
      "0.014408461967519395\n",
      "0.016903618745898026\n",
      "0.019402987597476287\n"
     ]
    }
   ],
   "source": [
    "c = coeffs_product_state(4, 18, 6, 1)\n",
    "dw = configs_dw(18, 6)\n",
    "print(16**18 * np.sum([c[-1][dw[ci]] for ci in dw]))\n",
    "\n",
    "c = coeffs_product_state(4, 20, 6, 1)\n",
    "dw = configs_dw(20, 6)\n",
    "print(16**20 * np.sum([c[-1][dw[ci]] for ci in dw]))\n",
    "\n",
    "c = coeffs_product_state(4, 22, 6, 1)\n",
    "dw = configs_dw(22, 6)\n",
    "print(16**22 * np.sum([c[-1][dw[ci]] for ci in dw]))"
   ]
  },
  {
   "cell_type": "code",
   "execution_count": 234,
   "metadata": {},
   "outputs": [
    {
     "name": "stdout",
     "output_type": "stream",
     "text": [
      "0.5964160000000114\n",
      "0.17900205768695882\n",
      "0.0534174322070119\n",
      "0.6684159999975224\n",
      "0.2317571194886744\n",
      "0.07801364020407685\n"
     ]
    }
   ],
   "source": [
    "c = coeffs_product_state(2, 8, 2, 1)[-1]\n",
    "print(coeffs_trace_norm_2(c, 8, configs_dw(8, 4)))\n",
    "\n",
    "c = coeffs_product_state(2, 8, 4, 1)[-1]\n",
    "print(coeffs_trace_norm_2(c, 8, configs_dw(8, 4)))\n",
    "\n",
    "c = coeffs_product_state(2, 8, 6, 1)[-1]\n",
    "print(coeffs_trace_norm_2(c, 8, configs_dw(8, 4)))\n",
    "\n",
    "c = coeffs_product_state(2, 10, 2, 1)[-1]\n",
    "print(coeffs_trace_norm_2(c, 10, configs_dw(10, 4)))\n",
    "\n",
    "c = coeffs_product_state(2, 10, 4, 1)[-1]\n",
    "print(coeffs_trace_norm_2(c, 10, configs_dw(10, 4)))\n",
    "\n",
    "c = coeffs_product_state(2, 10, 6, 1)[-1]\n",
    "print(coeffs_trace_norm_2(c, 10, configs_dw(10, 4)))"
   ]
  },
  {
   "cell_type": "code",
   "execution_count": 238,
   "metadata": {},
   "outputs": [
    {
     "name": "stdout",
     "output_type": "stream",
     "text": [
      "2.479882240000001\n",
      "0.7331556418912262\n",
      "0.21875936041865396\n",
      "3.628072960000002\n",
      "1.1251311076966406\n",
      "0.3750882323283421\n"
     ]
    }
   ],
   "source": [
    "c = coeffs_product_state(2, 8, 2, 1)[-1]\n",
    "dw = configs_dw(8, 4)\n",
    "print(np.sum([c[dw[ci]] for ci in dw]) * 4**8)\n",
    "\n",
    "c = coeffs_product_state(2, 8, 4, 1)[-1]\n",
    "dw = configs_dw(8, 4)\n",
    "print(np.sum([c[dw[ci]] for ci in dw]) * 4**8)\n",
    "\n",
    "c = coeffs_product_state(2, 8, 6, 1)[-1]\n",
    "dw = configs_dw(8, 4)\n",
    "print(np.sum([c[dw[ci]] for ci in dw]) * 4**8)\n",
    "\n",
    "c = coeffs_product_state(2, 10, 2, 1)[-1]\n",
    "dw = configs_dw(10, 4)\n",
    "print(np.sum([c[dw[ci]] for ci in dw]) * 4**10)\n",
    "\n",
    "c = coeffs_product_state(2, 10, 4, 1)[-1]\n",
    "dw = configs_dw(10, 4)\n",
    "print(np.sum([c[dw[ci]] for ci in dw]) * 4**10)\n",
    "\n",
    "c = coeffs_product_state(2, 10, 6, 1)[-1]\n",
    "dw = configs_dw(10, 4)\n",
    "print(np.sum([c[dw[ci]] for ci in dw]) * 4**10)"
   ]
  },
  {
   "cell_type": "code",
   "execution_count": 239,
   "metadata": {},
   "outputs": [
    {
     "name": "stdout",
     "output_type": "stream",
     "text": [
      "0.6868134399893335\n"
     ]
    },
    {
     "ename": "KeyboardInterrupt",
     "evalue": "",
     "output_type": "error",
     "traceback": [
      "\u001b[0;31m---------------------------------------------------------------------------\u001b[0m",
      "\u001b[0;31mKeyboardInterrupt\u001b[0m                         Traceback (most recent call last)",
      "\u001b[0;32m<ipython-input-239-a38846867ff0>\u001b[0m in \u001b[0;36m<module>\u001b[0;34m\u001b[0m\n\u001b[1;32m      3\u001b[0m \u001b[0;34m\u001b[0m\u001b[0m\n\u001b[1;32m      4\u001b[0m \u001b[0mc\u001b[0m \u001b[0;34m=\u001b[0m \u001b[0mcoeffs_product_state\u001b[0m\u001b[0;34m(\u001b[0m\u001b[0;36m2\u001b[0m\u001b[0;34m,\u001b[0m \u001b[0;36m14\u001b[0m\u001b[0;34m,\u001b[0m \u001b[0;36m2\u001b[0m\u001b[0;34m,\u001b[0m \u001b[0;36m1\u001b[0m\u001b[0;34m)\u001b[0m\u001b[0;34m[\u001b[0m\u001b[0;34m-\u001b[0m\u001b[0;36m1\u001b[0m\u001b[0;34m]\u001b[0m\u001b[0;34m\u001b[0m\u001b[0;34m\u001b[0m\u001b[0m\n\u001b[0;32m----> 5\u001b[0;31m \u001b[0mprint\u001b[0m\u001b[0;34m(\u001b[0m\u001b[0mcoeffs_trace_norm_2\u001b[0m\u001b[0;34m(\u001b[0m\u001b[0mc\u001b[0m\u001b[0;34m,\u001b[0m \u001b[0;36m14\u001b[0m\u001b[0;34m,\u001b[0m \u001b[0mconfigs_dw\u001b[0m\u001b[0;34m(\u001b[0m\u001b[0;36m14\u001b[0m\u001b[0;34m,\u001b[0m \u001b[0;36m4\u001b[0m\u001b[0;34m)\u001b[0m\u001b[0;34m)\u001b[0m\u001b[0;34m)\u001b[0m\u001b[0;34m\u001b[0m\u001b[0;34m\u001b[0m\u001b[0m\n\u001b[0m",
      "\u001b[0;32m<ipython-input-233-8d239913771f>\u001b[0m in \u001b[0;36mcoeffs_trace_norm_2\u001b[0;34m(c, n, select)\u001b[0m\n\u001b[1;32m     38\u001b[0m                     \u001b[0;32mif\u001b[0m \u001b[0;34m(\u001b[0m\u001b[0mci\u001b[0m\u001b[0;34m[\u001b[0m\u001b[0mi\u001b[0m\u001b[0;34m]\u001b[0m \u001b[0;34m==\u001b[0m \u001b[0;34m'1'\u001b[0m\u001b[0;34m)\u001b[0m \u001b[0;32mand\u001b[0m \u001b[0;34m(\u001b[0m\u001b[0mev\u001b[0m\u001b[0;34m[\u001b[0m\u001b[0mi\u001b[0m\u001b[0;34m]\u001b[0m \u001b[0;34m==\u001b[0m \u001b[0;34m'3'\u001b[0m\u001b[0;34m)\u001b[0m\u001b[0;34m:\u001b[0m\u001b[0;34m\u001b[0m\u001b[0;34m\u001b[0m\u001b[0m\n\u001b[1;32m     39\u001b[0m                         \u001b[0msign\u001b[0m \u001b[0;34m*=\u001b[0m \u001b[0;34m-\u001b[0m\u001b[0;36m1\u001b[0m\u001b[0;34m\u001b[0m\u001b[0;34m\u001b[0m\u001b[0m\n\u001b[0;32m---> 40\u001b[0;31m                 \u001b[0mcosum\u001b[0m \u001b[0;34m+=\u001b[0m \u001b[0msign\u001b[0m \u001b[0;34m*\u001b[0m \u001b[0mcoeffs\u001b[0m\u001b[0;34m[\u001b[0m\u001b[0mci\u001b[0m\u001b[0;34m]\u001b[0m\u001b[0;34m\u001b[0m\u001b[0;34m\u001b[0m\u001b[0m\n\u001b[0m\u001b[1;32m     41\u001b[0m             \u001b[0mresult\u001b[0m \u001b[0;34m+=\u001b[0m \u001b[0mabs\u001b[0m\u001b[0;34m(\u001b[0m\u001b[0mcosum\u001b[0m\u001b[0;34m)\u001b[0m\u001b[0;34m\u001b[0m\u001b[0;34m\u001b[0m\u001b[0m\n\u001b[1;32m     42\u001b[0m             \u001b[0;31m#print(cosum)\u001b[0m\u001b[0;34m\u001b[0m\u001b[0;34m\u001b[0m\u001b[0;34m\u001b[0m\u001b[0m\n",
      "\u001b[0;31mKeyboardInterrupt\u001b[0m: "
     ]
    }
   ],
   "source": [
    "c = coeffs_product_state(2, 12, 2, 1)[-1]\n",
    "print(coeffs_trace_norm_2(c, 12, configs_dw(12, 4)))\n",
    "\n",
    "c = coeffs_product_state(2, 14, 2, 1)[-1]\n",
    "print(coeffs_trace_norm_2(c, 14, configs_dw(14, 4)))"
   ]
  },
  {
   "cell_type": "code",
   "execution_count": 72,
   "metadata": {},
   "outputs": [
    {
     "name": "stdout",
     "output_type": "stream",
     "text": [
      "1.7203200000000005\n",
      "2.205236865269761\n",
      "2.9469172461730153\n",
      "3.5612975931941113\n",
      "\n",
      "1.7058599999999995\n",
      "1.544320793363759\n",
      "1.6784264043721584\n",
      "1.722517723867893\n",
      "\n",
      "1.4539379669924506\n",
      "1.0156160351072585\n",
      "1.0298293915926116\n",
      "1.030273889736587\n",
      "1.0300990286498986\n",
      "\n",
      "0.7916573280939851\n",
      "0.36521238941521456\n",
      "0.3630372535678201\n",
      "0.3628582542441066\n",
      "0.3628464920064653\n"
     ]
    }
   ],
   "source": [
    "c = coeffs_trap_product_state(2, 4, 2, 1)\n",
    "dw = configs_dw(6, 4)\n",
    "print(np.sum([c[-1][dw[ci]] for ci in dw]) * 4**6)\n",
    "#print(coeffs_trace_norm_2(c[-1], 6, dw))\n",
    "\n",
    "c = coeffs_trap_product_state(2, 4, 4, 1)\n",
    "dw = configs_dw(10, 4)\n",
    "print(np.sum([c[-1][dw[ci]] for ci in dw]) * 4**10)\n",
    "#print(coeffs_trace_norm_2(c[-1], 10, dw))\n",
    "\n",
    "c = coeffs_trap_product_state(2, 4, 6, 1)\n",
    "dw = configs_dw(14, 4)\n",
    "print(np.sum([c[-1][dw[ci]] for ci in dw]) * 4**14)\n",
    "\n",
    "c = coeffs_trap_product_state(2, 4, 8, 1)\n",
    "dw = configs_dw(18, 4)\n",
    "print(np.sum([c[-1][dw[ci]] for ci in dw]) * 4**18)\n",
    "\n",
    "print()\n",
    "\n",
    "c = coeffs_trap_product_state(3, 4, 2, 1)\n",
    "dw = configs_dw(6, 4)\n",
    "print(np.sum([c[-1][dw[ci]] for ci in dw]) * 9**6)\n",
    "\n",
    "c = coeffs_trap_product_state(3, 4, 4, 1)\n",
    "dw = configs_dw(10, 4)\n",
    "print(np.sum([c[-1][dw[ci]] for ci in dw]) * 9**10)\n",
    "\n",
    "c = coeffs_trap_product_state(3, 4, 6, 1)\n",
    "dw = configs_dw(14, 4)\n",
    "print(np.sum([c[-1][dw[ci]] for ci in dw]) * 9**14)\n",
    "\n",
    "c = coeffs_trap_product_state(3, 4, 8, 1)\n",
    "dw = configs_dw(18, 4)\n",
    "print(np.sum([c[-1][dw[ci]] for ci in dw]) * 9**18)\n",
    "\n",
    "print()\n",
    "\n",
    "c = coeffs_trap_product_state(4, 4, 2, 1)\n",
    "dw = configs_dw(6, 4)\n",
    "print(np.sum([c[-1][dw[ci]] for ci in dw]) * 16**6)\n",
    "\n",
    "c = coeffs_trap_product_state(4, 4, 4, 1)\n",
    "dw = configs_dw(10, 4)\n",
    "print(np.sum([c[-1][dw[ci]] for ci in dw]) * 16**10)\n",
    "\n",
    "c = coeffs_trap_product_state(4, 4, 6, 1)\n",
    "dw = configs_dw(14, 4)\n",
    "print(np.sum([c[-1][dw[ci]] for ci in dw]) * 16**14)\n",
    "\n",
    "c = coeffs_trap_product_state(4, 4, 8, 1)\n",
    "dw = configs_dw(18, 4)\n",
    "print(np.sum([c[-1][dw[ci]] for ci in dw]) * 16**18)\n",
    "\n",
    "c = coeffs_trap_product_state(4, 4, 10, 1)\n",
    "dw = configs_dw(22, 4)\n",
    "print(np.sum([c[-1][dw[ci]] for ci in dw]) * 16**22)\n",
    "\n",
    "print()\n",
    "\n",
    "c = coeffs_trap_product_state(8, 4, 2, 1)\n",
    "dw = configs_dw(6, 4)\n",
    "print(np.sum([c[-1][dw[ci]] for ci in dw]) * 64**6)\n",
    "\n",
    "c = coeffs_trap_product_state(8, 4, 4, 1)\n",
    "dw = configs_dw(10, 4)\n",
    "print(np.sum([c[-1][dw[ci]] for ci in dw]) * 64**10)\n",
    "\n",
    "c = coeffs_trap_product_state(8, 4, 6, 1)\n",
    "dw = configs_dw(14, 4)\n",
    "print(np.sum([c[-1][dw[ci]] for ci in dw]) * 64**14)\n",
    "\n",
    "c = coeffs_trap_product_state(8, 4, 8, 1)\n",
    "dw = configs_dw(18, 4)\n",
    "print(np.sum([c[-1][dw[ci]] for ci in dw]) * 64**18)\n",
    "\n",
    "c = coeffs_trap_product_state(8, 4, 10, 1)\n",
    "dw = configs_dw(22, 4)\n",
    "print(np.sum([c[-1][dw[ci]] for ci in dw]) * 64**22)"
   ]
  },
  {
   "cell_type": "code",
   "execution_count": 55,
   "metadata": {},
   "outputs": [
    {
     "name": "stdout",
     "output_type": "stream",
     "text": [
      "7.537774978662405\n",
      "2.0342520373053503\n",
      "2.003475038446715\n",
      "0.6210692236753136\n",
      "0.6934553422794508\n"
     ]
    }
   ],
   "source": [
    "c = coeffs_product_state(2, 14, 2, 1)[-1]\n",
    "dw = configs_dw(14, 4)\n",
    "print(np.sum([c[dw[ci]] for ci in dw]) * 4**14)\n",
    "\n",
    "c = coeffs_product_state(2, 14, 3, 1)[-1]\n",
    "dw = configs_dw(14, 4)\n",
    "print(np.sum([c[dw[ci]] for ci in dw]) * 4**14)\n",
    "\n",
    "c = coeffs_product_state(2, 14, 4, 1)[-1]\n",
    "dw = configs_dw(14, 4)\n",
    "print(np.sum([c[dw[ci]] for ci in dw]) * 4**14)\n",
    "\n",
    "c = coeffs_product_state(2, 14, 5, 1)[-1]\n",
    "dw = configs_dw(14, 4)\n",
    "print(np.sum([c[dw[ci]] for ci in dw]) * 4**14)\n",
    "\n",
    "c = coeffs_product_state(2, 14, 6, 1)[-1]\n",
    "dw = configs_dw(14, 4)\n",
    "print(np.sum([c[dw[ci]] for ci in dw]) * 4**14)"
   ]
  },
  {
   "cell_type": "code",
   "execution_count": 71,
   "metadata": {},
   "outputs": [
    {
     "name": "stdout",
     "output_type": "stream",
     "text": [
      "1.2230275348579154\n",
      "0.7220146323083957\n",
      "0.7192715036162945\n",
      "0.718018888048598\n"
     ]
    },
    {
     "ename": "KeyboardInterrupt",
     "evalue": "",
     "output_type": "error",
     "traceback": [
      "\u001b[0;31m---------------------------------------------------------------------------\u001b[0m",
      "\u001b[0;31mKeyboardInterrupt\u001b[0m                         Traceback (most recent call last)",
      "\u001b[0;32m<ipython-input-71-dcc9f45decd5>\u001b[0m in \u001b[0;36m<module>\u001b[0;34m\u001b[0m\n\u001b[1;32m     17\u001b[0m \u001b[0mprint\u001b[0m\u001b[0;34m(\u001b[0m\u001b[0mnp\u001b[0m\u001b[0;34m.\u001b[0m\u001b[0msum\u001b[0m\u001b[0;34m(\u001b[0m\u001b[0;34m[\u001b[0m\u001b[0mc\u001b[0m\u001b[0;34m[\u001b[0m\u001b[0;34m-\u001b[0m\u001b[0;36m1\u001b[0m\u001b[0;34m]\u001b[0m\u001b[0;34m[\u001b[0m\u001b[0mdw\u001b[0m\u001b[0;34m[\u001b[0m\u001b[0mci\u001b[0m\u001b[0;34m]\u001b[0m\u001b[0;34m]\u001b[0m \u001b[0;32mfor\u001b[0m \u001b[0mci\u001b[0m \u001b[0;32min\u001b[0m \u001b[0mdw\u001b[0m\u001b[0;34m]\u001b[0m\u001b[0;34m)\u001b[0m \u001b[0;34m*\u001b[0m \u001b[0md\u001b[0m\u001b[0;34m**\u001b[0m\u001b[0;36m18\u001b[0m\u001b[0;34m)\u001b[0m\u001b[0;34m\u001b[0m\u001b[0;34m\u001b[0m\u001b[0m\n\u001b[1;32m     18\u001b[0m \u001b[0;34m\u001b[0m\u001b[0m\n\u001b[0;32m---> 19\u001b[0;31m \u001b[0mc\u001b[0m \u001b[0;34m=\u001b[0m \u001b[0mcoeffs_trap_product_state\u001b[0m\u001b[0;34m(\u001b[0m\u001b[0mq\u001b[0m\u001b[0;34m,\u001b[0m \u001b[0;36m4\u001b[0m\u001b[0;34m,\u001b[0m \u001b[0;36m10\u001b[0m\u001b[0;34m,\u001b[0m \u001b[0;36m1\u001b[0m\u001b[0;34m)\u001b[0m\u001b[0;34m\u001b[0m\u001b[0;34m\u001b[0m\u001b[0m\n\u001b[0m\u001b[1;32m     20\u001b[0m \u001b[0mdw\u001b[0m \u001b[0;34m=\u001b[0m \u001b[0mconfigs_dw\u001b[0m\u001b[0;34m(\u001b[0m\u001b[0;36m22\u001b[0m\u001b[0;34m,\u001b[0m \u001b[0;36m4\u001b[0m\u001b[0;34m)\u001b[0m\u001b[0;34m\u001b[0m\u001b[0;34m\u001b[0m\u001b[0m\n\u001b[1;32m     21\u001b[0m \u001b[0mprint\u001b[0m\u001b[0;34m(\u001b[0m\u001b[0mnp\u001b[0m\u001b[0;34m.\u001b[0m\u001b[0msum\u001b[0m\u001b[0;34m(\u001b[0m\u001b[0;34m[\u001b[0m\u001b[0mc\u001b[0m\u001b[0;34m[\u001b[0m\u001b[0;34m-\u001b[0m\u001b[0;36m1\u001b[0m\u001b[0;34m]\u001b[0m\u001b[0;34m[\u001b[0m\u001b[0mdw\u001b[0m\u001b[0;34m[\u001b[0m\u001b[0mci\u001b[0m\u001b[0;34m]\u001b[0m\u001b[0;34m]\u001b[0m \u001b[0;32mfor\u001b[0m \u001b[0mci\u001b[0m \u001b[0;32min\u001b[0m \u001b[0mdw\u001b[0m\u001b[0;34m]\u001b[0m\u001b[0;34m)\u001b[0m \u001b[0;34m*\u001b[0m \u001b[0md\u001b[0m\u001b[0;34m**\u001b[0m\u001b[0;36m22\u001b[0m\u001b[0;34m)\u001b[0m\u001b[0;34m\u001b[0m\u001b[0;34m\u001b[0m\u001b[0m\n",
      "\u001b[0;32m<ipython-input-47-77a5928ac9c9>\u001b[0m in \u001b[0;36mcoeffs_trap_product_state\u001b[0;34m(q, a, l, lstep)\u001b[0m\n\u001b[1;32m     46\u001b[0m                     \u001b[0mnextconfig\u001b[0m\u001b[0;34m[\u001b[0m\u001b[0mconfig1\u001b[0m\u001b[0;34m]\u001b[0m \u001b[0;34m=\u001b[0m \u001b[0moffset\u001b[0m\u001b[0;34m\u001b[0m\u001b[0;34m\u001b[0m\u001b[0m\n\u001b[1;32m     47\u001b[0m                     \u001b[0mnextconfig\u001b[0m\u001b[0;34m[\u001b[0m\u001b[0mconfig2\u001b[0m\u001b[0;34m]\u001b[0m \u001b[0;34m=\u001b[0m \u001b[0moffset\u001b[0m\u001b[0;34m\u001b[0m\u001b[0;34m\u001b[0m\u001b[0m\n\u001b[0;32m---> 48\u001b[0;31m                     \u001b[0mc\u001b[0m\u001b[0;34m[\u001b[0m\u001b[0mj\u001b[0m\u001b[0;34m]\u001b[0m\u001b[0;34m[\u001b[0m\u001b[0mconfigs\u001b[0m\u001b[0;34m[\u001b[0m\u001b[0mconfig1\u001b[0m\u001b[0;34m]\u001b[0m\u001b[0;34m]\u001b[0m \u001b[0;34m+=\u001b[0m \u001b[0mc\u001b[0m\u001b[0;34m[\u001b[0m\u001b[0mj\u001b[0m \u001b[0;34m-\u001b[0m \u001b[0;36m1\u001b[0m\u001b[0;34m]\u001b[0m\u001b[0;34m[\u001b[0m\u001b[0mconfigs\u001b[0m\u001b[0;34m[\u001b[0m\u001b[0mconfig\u001b[0m\u001b[0;34m]\u001b[0m\u001b[0;34m]\u001b[0m \u001b[0;34m*\u001b[0m \u001b[0mw\u001b[0m\u001b[0;34m\u001b[0m\u001b[0;34m\u001b[0m\u001b[0m\n\u001b[0m\u001b[1;32m     49\u001b[0m                     \u001b[0mc\u001b[0m\u001b[0;34m[\u001b[0m\u001b[0mj\u001b[0m\u001b[0;34m]\u001b[0m\u001b[0;34m[\u001b[0m\u001b[0mconfigs\u001b[0m\u001b[0;34m[\u001b[0m\u001b[0mconfig2\u001b[0m\u001b[0;34m]\u001b[0m\u001b[0;34m]\u001b[0m \u001b[0;34m+=\u001b[0m \u001b[0mc\u001b[0m\u001b[0;34m[\u001b[0m\u001b[0mj\u001b[0m \u001b[0;34m-\u001b[0m \u001b[0;36m1\u001b[0m\u001b[0;34m]\u001b[0m\u001b[0;34m[\u001b[0m\u001b[0mconfigs\u001b[0m\u001b[0;34m[\u001b[0m\u001b[0mconfig\u001b[0m\u001b[0;34m]\u001b[0m\u001b[0;34m]\u001b[0m \u001b[0;34m*\u001b[0m \u001b[0mw\u001b[0m\u001b[0;34m\u001b[0m\u001b[0;34m\u001b[0m\u001b[0m\n\u001b[1;32m     50\u001b[0m             \u001b[0;31m#print(g)\u001b[0m\u001b[0;34m\u001b[0m\u001b[0;34m\u001b[0m\u001b[0;34m\u001b[0m\u001b[0m\n",
      "\u001b[0;31mKeyboardInterrupt\u001b[0m: "
     ]
    }
   ],
   "source": [
    "q = 5\n",
    "d = q**2\n",
    "c = coeffs_trap_product_state(q, 4, 2, 1)\n",
    "dw = configs_dw(6, 4)\n",
    "print(np.sum([c[-1][dw[ci]] for ci in dw]) * d**6)\n",
    "\n",
    "c = coeffs_trap_product_state(q, 4, 4, 1)\n",
    "dw = configs_dw(10, 4)\n",
    "print(np.sum([c[-1][dw[ci]] for ci in dw]) * d**10)\n",
    "\n",
    "c = coeffs_trap_product_state(q, 4, 6, 1)\n",
    "dw = configs_dw(14, 4)\n",
    "print(np.sum([c[-1][dw[ci]] for ci in dw]) * d**14)\n",
    "\n",
    "c = coeffs_trap_product_state(q, 4, 8, 1)\n",
    "dw = configs_dw(18, 4)\n",
    "print(np.sum([c[-1][dw[ci]] for ci in dw]) * d**18)\n",
    "\n",
    "c = coeffs_trap_product_state(q, 4, 10, 1)\n",
    "dw = configs_dw(22, 4)\n",
    "print(np.sum([c[-1][dw[ci]] for ci in dw]) * d**22)\n",
    "\n",
    "c = coeffs_trap_product_state(q, 4, 12, 1)\n",
    "dw = configs_dw(26, 4)\n",
    "print(np.sum([c[-1][dw[ci]] for ci in dw]) * d**26)"
   ]
  },
  {
   "cell_type": "code",
   "execution_count": 76,
   "metadata": {},
   "outputs": [
    {
     "name": "stdout",
     "output_type": "stream",
     "text": [
      "1.4539379669924506\n",
      "194.78712557502328\n",
      "\n",
      "1.0156160351072585\n",
      "21.711725800546134\n",
      "\n",
      "1.0298293915926116\n",
      "14.316385110973101\n",
      "\n",
      "1.030273889736587\n",
      "10.849940346129092\n",
      "\n",
      "1.0300990286498986\n",
      "8.44966623726645\n",
      "\n"
     ]
    }
   ],
   "source": [
    "q = 4\n",
    "c = coeffs_trap_product_state(q, 4, 2, 1)\n",
    "dw = configs_dw(6, 4)\n",
    "print(np.sum([c[-1][dw[ci]] for ci in dw]) * 16**6)\n",
    "print(trap_bound(q, 4, 2))\n",
    "print()\n",
    "\n",
    "c = coeffs_trap_product_state(q, 4, 4, 1)\n",
    "dw = configs_dw(10, 4)\n",
    "print(np.sum([c[-1][dw[ci]] for ci in dw]) * 16**10)\n",
    "print(trap_bound(q, 4, 4))\n",
    "print()\n",
    "\n",
    "c = coeffs_trap_product_state(q, 4, 6, 1)\n",
    "dw = configs_dw(14, 4)\n",
    "print(np.sum([c[-1][dw[ci]] for ci in dw]) * 16**14)\n",
    "print(trap_bound(q, 4, 6))\n",
    "print()\n",
    "\n",
    "c = coeffs_trap_product_state(q, 4, 8, 1)\n",
    "dw = configs_dw(18, 4)\n",
    "print(np.sum([c[-1][dw[ci]] for ci in dw]) * 16**18)\n",
    "print(trap_bound(q, 4, 8))\n",
    "print()\n",
    "\n",
    "c = coeffs_trap_product_state(q, 4, 10, 1)\n",
    "dw = configs_dw(22, 4)\n",
    "print(np.sum([c[-1][dw[ci]] for ci in dw]) * 16**22)\n",
    "print(trap_bound(q, 4, 10))\n",
    "print()"
   ]
  },
  {
   "cell_type": "code",
   "execution_count": 79,
   "metadata": {},
   "outputs": [
    {
     "name": "stdout",
     "output_type": "stream",
     "text": [
      "6.619154490337659\n",
      "3.196336779517964\n",
      "1.5441982870706867\n",
      "0.7460291166225692\n"
     ]
    }
   ],
   "source": [
    "for l in range(12, 36, 6):\n",
    "    print(trap_bound(q, 4, l))"
   ]
  },
  {
   "cell_type": "code",
   "execution_count": null,
   "metadata": {},
   "outputs": [],
   "source": [
    "c = coeffs_product_state(2, 10, 2, 1)[-1]\n",
    "print(coeffs_trace_norm_2(c, 10, configs_dw(10, 4)))\n",
    "print(coeffs_trace_norm_2_i(c, 10, configs_dw(10, 4)))"
   ]
  },
  {
   "cell_type": "code",
   "execution_count": null,
   "metadata": {},
   "outputs": [],
   "source": []
  }
 ],
 "metadata": {
  "kernelspec": {
   "display_name": "Python 3",
   "language": "python",
   "name": "python3"
  },
  "language_info": {
   "codemirror_mode": {
    "name": "ipython",
    "version": 3
   },
   "file_extension": ".py",
   "mimetype": "text/x-python",
   "name": "python",
   "nbconvert_exporter": "python",
   "pygments_lexer": "ipython3",
   "version": "3.7.4"
  }
 },
 "nbformat": 4,
 "nbformat_minor": 2
}
