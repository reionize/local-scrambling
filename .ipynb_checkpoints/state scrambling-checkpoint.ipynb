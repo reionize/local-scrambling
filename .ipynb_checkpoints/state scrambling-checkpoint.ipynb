{
 "cells": [
  {
   "cell_type": "code",
   "execution_count": 1,
   "metadata": {},
   "outputs": [],
   "source": [
    "import numpy as np\n",
    "import math\n",
    "import random\n",
    "#from scipy.stats import unitary_group as ug"
   ]
  },
  {
   "cell_type": "code",
   "execution_count": 191,
   "metadata": {},
   "outputs": [],
   "source": [
    "def trap_bound_1(q, n, a, l):\n",
    "    return 2 * (2 ** (a + 2*l)) * a * ((2*q/(q**2 + 1)) ** l) / (1 - a * ((2*q/(q**2 + 1)) ** l))\n",
    "\n",
    "def trap_bound_2(q, n, a, l):\n",
    "    return 2 * (2 ** (a/2 + l)) * a * ((2*q/(q**2 + 1)) ** l) / (1 - a * ((2*q/(q**2 + 1)) ** l))\n",
    "\n",
    "def partial_tr_bound(q, n, a, l):\n",
    "    return 4 * (4 ** a) * a * ((2*q/(q**2 + 1)) ** (2*l))"
   ]
  },
  {
   "cell_type": "code",
   "execution_count": 188,
   "metadata": {},
   "outputs": [],
   "source": [
    "#compute coefficients for entire circuit with product state input\n",
    "#n should be even, l >= 2, q >= 2\n",
    "def coeffs_product_state(q, n, l, lstep):\n",
    "    #useful defs\n",
    "    d = q**2\n",
    "    w = q/(q**2 + 1)\n",
    "    cn = 2**n\n",
    "    cm = 2**(n//2)\n",
    "    configs = {format(i, '0'+str(n)+'b'): i for i in range(cn)}\n",
    "    lastconfig = {}\n",
    "    for i in range(cm):\n",
    "        rep = format(i, '0'+str(n//2)+'b')\n",
    "        config = ''\n",
    "        for j in range(n//2):\n",
    "            config += rep[j] + rep[j]\n",
    "        lastconfig[config] = configs[config]\n",
    "    c = np.zeros(((l-1)*n//2 + 1, cn))\n",
    "    for cii in lastconfig:\n",
    "        c[0][lastconfig[cii]] = (1/d/(d+1))**(n//2)\n",
    "    offset = -1\n",
    "    nextconfig = {}\n",
    "    for t in range(1, l):\n",
    "        #print(t)\n",
    "        offset *= -1\n",
    "        for g in range(n//2 - 1):\n",
    "            j = (t-1)*n//2 + g + 1\n",
    "            #even layer: g, g-1 input\n",
    "            #odd layer: g, g+1 input\n",
    "            for config in lastconfig:\n",
    "                if config[2*g + 1] == config[2*g + 1 + offset]:\n",
    "                    nextconfig[config] = offset\n",
    "                    c[j][configs[config]] += c[j - 1][configs[config]]\n",
    "                elif offset > 0:\n",
    "                    config1 = config[:2*g + 1] + '00' + config[2*g + 3:]\n",
    "                    config2 = config[:2*g + 1] + '11' + config[2*g + 3:]\n",
    "                    nextconfig[config1] = offset\n",
    "                    nextconfig[config2] = offset\n",
    "                    c[j][configs[config1]] += c[j - 1][configs[config]] * w\n",
    "                    c[j][configs[config2]] += c[j - 1][configs[config]] * w\n",
    "                else:\n",
    "                    config1 = config[:2*g] + '00' + config[2*g + 2:]\n",
    "                    config2 = config[:2*g] + '11' + config[2*g + 2:]\n",
    "                    nextconfig[config1] = offset\n",
    "                    nextconfig[config2] = offset\n",
    "                    c[j][configs[config1]] += c[j - 1][configs[config]] * w\n",
    "                    c[j][configs[config2]] += c[j - 1][configs[config]] * w\n",
    "            #print(g)\n",
    "            #print(lastconfig)\n",
    "            #print(nextconfig)\n",
    "            #print()\n",
    "            lastconfig = nextconfig\n",
    "            nextconfig = {}\n",
    "        #last gate separately\n",
    "        j = t*n//2\n",
    "        g = -1\n",
    "        for config in lastconfig:\n",
    "            if config[2*g + 1] == config[2*g + 1 + offset]:\n",
    "                nextconfig[config] = offset\n",
    "                c[j][configs[config]] += c[j - 1][configs[config]]\n",
    "            elif offset < 0:\n",
    "                config1 = config[:-2] + '00'\n",
    "                config2 = config[:-2] + '11'\n",
    "                nextconfig[config1] = offset\n",
    "                nextconfig[config2] = offset\n",
    "                c[j][configs[config1]] += c[j - 1][configs[config]] * w\n",
    "                c[j][configs[config2]] += c[j - 1][configs[config]] * w\n",
    "            else:\n",
    "                config1 = '0' + config[1:-1] + '0'\n",
    "                config2 = '1' + config[1:-1] + '1'\n",
    "                nextconfig[config1] = offset\n",
    "                nextconfig[config2] = offset\n",
    "                c[j][configs[config1]] += c[j - 1][configs[config]] * w\n",
    "                c[j][configs[config2]] += c[j - 1][configs[config]] * w\n",
    "        #print(lastconfig)\n",
    "        #print(nextconfig)\n",
    "        lastconfig = nextconfig\n",
    "        nextconfig = {}\n",
    "    #print(lastconfig)\n",
    "    #print(c[-1])\n",
    "    #print(np.sum(c[-1]) - c[-1][0] - c[-1][-1])\n",
    "    return [c[lstep*i*n//2] for i in range(l//lstep)]"
   ]
  },
  {
   "cell_type": "code",
   "execution_count": 144,
   "metadata": {},
   "outputs": [],
   "source": [
    "#returns configurations with domain wall in region of specified size, q = 2, n >= a\n",
    "def configs_dw(n, a):\n",
    "    result = {}\n",
    "    configs = {format(i, '0'+str(n)+'b'): i for i in range(2**n)}\n",
    "    for cii in configs:\n",
    "        if ('0' in cii[:a]) and ('1' in cii[:a]):\n",
    "            result[cii] = configs[cii]\n",
    "    return result"
   ]
  },
  {
   "cell_type": "code",
   "execution_count": 233,
   "metadata": {},
   "outputs": [],
   "source": [
    "#compute trace norm given output coefficients\n",
    "def coeffs_trace_norm(c, q, n, select):\n",
    "    #TODO\n",
    "    if len(c) != 2**n:\n",
    "        print('Dimensions must match!')\n",
    "        return -1\n",
    "    if len(select) == 0:\n",
    "        return 0\n",
    "    if len(select[0]) != n:\n",
    "        print('Dimensions must match!')\n",
    "        return -1\n",
    "    #swap has q + q(q-1)/2 eigenvectors with +1 and q(q-1)/2 eigenvectors with -1\n",
    "    return -1\n",
    "\n",
    "#compute trace norm given output coefficients, q = 2\n",
    "def coeffs_trace_norm_2(c, n, select):\n",
    "    if len(c) != 2**n:\n",
    "        print('Dimensions must match!')\n",
    "        return -1\n",
    "    if len(select) == 0:\n",
    "        return 0\n",
    "    #swap has 3 eigenvectors with +1 and one with -1\n",
    "    evs = [format(np.base_repr(i, base=4), '>0' + str(n)) for i in range(4**n)]\n",
    "    coeffs = {}\n",
    "    coeffsum = 0\n",
    "    for ci in select:\n",
    "        if c[select[ci]] != 0:\n",
    "            coeffs[ci] = c[select[ci]]\n",
    "            coeffsum += c[select[ci]]\n",
    "    result = 0\n",
    "    #print(coeffsum)\n",
    "    for ev in evs:\n",
    "        if '3' in ev:\n",
    "            cosum = 0\n",
    "            for ci in coeffs:\n",
    "                sign = 1\n",
    "                for i in range(n):\n",
    "                    if (ci[i] == '1') and (ev[i] == '3'):\n",
    "                        sign *= -1\n",
    "                cosum += sign * coeffs[ci]\n",
    "            result += abs(cosum)\n",
    "            #print(cosum)\n",
    "        else:\n",
    "            result += coeffsum\n",
    "    return result"
   ]
  },
  {
   "cell_type": "code",
   "execution_count": 4,
   "metadata": {},
   "outputs": [],
   "source": [
    "#compute coefficients for trapezoidal circuit\n",
    "#n should be even, l >= 2, q >= 2\n",
    "def coeffs_product_state(q, n, l, lstep):\n",
    "    #useful defs\n",
    "    d = q**2\n",
    "    w = q/(q**2 + 1)\n",
    "    cn = 2**n\n",
    "    cm = 2**(n//2)\n",
    "    configs = {format(i, '0'+str(n)+'b'): i for i in range(cn)}\n",
    "    lastconfig = {}"
   ]
  },
  {
   "cell_type": "code",
   "execution_count": null,
   "metadata": {},
   "outputs": [],
   "source": [
    "#compute coefficients for partial trace over output"
   ]
  },
  {
   "cell_type": "code",
   "execution_count": 183,
   "metadata": {},
   "outputs": [
    {
     "name": "stdout",
     "output_type": "stream",
     "text": [
      "24\n"
     ]
    }
   ],
   "source": [
    "q = 2\n",
    "l = 10\n",
    "lstep = 1\n",
    "for n in [24]:\n",
    "    c = coeffs_product_state(q, n, l, lstep)\n",
    "    print(n)\n",
    "    f = open('output/coeffs_product_state_' + str(n) + '_' + str(l) + '_' + str(lstep), 'w')\n",
    "    for t in range(len(c)):\n",
    "        f.writelines('%s\\n' % ci for ci in c[t])\n",
    "        f.write('\\n')\n",
    "    f.close()\n",
    "#dw = configs_dw(n, a)"
   ]
  },
  {
   "cell_type": "code",
   "execution_count": 181,
   "metadata": {},
   "outputs": [
    {
     "name": "stdout",
     "output_type": "stream",
     "text": [
      "1.4738071083256765\n",
      "1.7755958156628664\n",
      "2.1170770511079713\n"
     ]
    }
   ],
   "source": [
    "c = coeffs_product_state(2, 18, 6, 1)\n",
    "dw = configs_dw(18, 6)\n",
    "print(4**18 * np.sum([c[-1][dw[ci]] for ci in dw]))\n",
    "\n",
    "c = coeffs_product_state(2, 20, 6, 1)\n",
    "dw = configs_dw(20, 6)\n",
    "print(4**20 * np.sum([c[-1][dw[ci]] for ci in dw]))\n",
    "\n",
    "c = coeffs_product_state(2, 22, 6, 1)\n",
    "dw = configs_dw(22, 6)\n",
    "print(4**22 * np.sum([c[-1][dw[ci]] for ci in dw]))"
   ]
  },
  {
   "cell_type": "code",
   "execution_count": 185,
   "metadata": {},
   "outputs": [],
   "source": [
    "for n in range(10, 24, 2):\n",
    "    for a in [4, 6, 8]:\n",
    "        dw = configs_dw(n, a)\n",
    "        with open('output/configs_dw_' + str(n) + '_' + str(a), 'w') as f:\n",
    "            f.writelines('%s\\n' % cii for cii in [dw[cii] for cii in dw])"
   ]
  },
  {
   "cell_type": "code",
   "execution_count": 190,
   "metadata": {},
   "outputs": [
    {
     "name": "stdout",
     "output_type": "stream",
     "text": [
      "0.014408461967519395\n",
      "0.016903618745898026\n",
      "0.019402987597476287\n"
     ]
    }
   ],
   "source": [
    "c = coeffs_product_state(4, 18, 6, 1)\n",
    "dw = configs_dw(18, 6)\n",
    "print(16**18 * np.sum([c[-1][dw[ci]] for ci in dw]))\n",
    "\n",
    "c = coeffs_product_state(4, 20, 6, 1)\n",
    "dw = configs_dw(20, 6)\n",
    "print(16**20 * np.sum([c[-1][dw[ci]] for ci in dw]))\n",
    "\n",
    "c = coeffs_product_state(4, 22, 6, 1)\n",
    "dw = configs_dw(22, 6)\n",
    "print(16**22 * np.sum([c[-1][dw[ci]] for ci in dw]))"
   ]
  },
  {
   "cell_type": "code",
   "execution_count": 234,
   "metadata": {},
   "outputs": [
    {
     "name": "stdout",
     "output_type": "stream",
     "text": [
      "0.5964160000000114\n",
      "0.17900205768695882\n",
      "0.0534174322070119\n",
      "0.6684159999975224\n",
      "0.2317571194886744\n",
      "0.07801364020407685\n"
     ]
    }
   ],
   "source": [
    "c = coeffs_product_state(2, 8, 2, 1)[-1]\n",
    "print(coeffs_trace_norm_2(c, 8, configs_dw(8, 4)))\n",
    "\n",
    "c = coeffs_product_state(2, 8, 4, 1)[-1]\n",
    "print(coeffs_trace_norm_2(c, 8, configs_dw(8, 4)))\n",
    "\n",
    "c = coeffs_product_state(2, 8, 6, 1)[-1]\n",
    "print(coeffs_trace_norm_2(c, 8, configs_dw(8, 4)))\n",
    "\n",
    "c = coeffs_product_state(2, 10, 2, 1)[-1]\n",
    "print(coeffs_trace_norm_2(c, 10, configs_dw(10, 4)))\n",
    "\n",
    "c = coeffs_product_state(2, 10, 4, 1)[-1]\n",
    "print(coeffs_trace_norm_2(c, 10, configs_dw(10, 4)))\n",
    "\n",
    "c = coeffs_product_state(2, 10, 6, 1)[-1]\n",
    "print(coeffs_trace_norm_2(c, 10, configs_dw(10, 4)))"
   ]
  },
  {
   "cell_type": "code",
   "execution_count": 238,
   "metadata": {},
   "outputs": [
    {
     "name": "stdout",
     "output_type": "stream",
     "text": [
      "2.479882240000001\n",
      "0.7331556418912262\n",
      "0.21875936041865396\n",
      "3.628072960000002\n",
      "1.1251311076966406\n",
      "0.3750882323283421\n"
     ]
    }
   ],
   "source": [
    "c = coeffs_product_state(2, 8, 2, 1)[-1]\n",
    "dw = configs_dw(8, 4)\n",
    "print(np.sum([c[dw[ci]] for ci in dw]) * 4**8)\n",
    "\n",
    "c = coeffs_product_state(2, 8, 4, 1)[-1]\n",
    "dw = configs_dw(8, 4)\n",
    "print(np.sum([c[dw[ci]] for ci in dw]) * 4**8)\n",
    "\n",
    "c = coeffs_product_state(2, 8, 6, 1)[-1]\n",
    "dw = configs_dw(8, 4)\n",
    "print(np.sum([c[dw[ci]] for ci in dw]) * 4**8)\n",
    "\n",
    "c = coeffs_product_state(2, 10, 2, 1)[-1]\n",
    "dw = configs_dw(10, 4)\n",
    "print(np.sum([c[dw[ci]] for ci in dw]) * 4**10)\n",
    "\n",
    "c = coeffs_product_state(2, 10, 4, 1)[-1]\n",
    "dw = configs_dw(10, 4)\n",
    "print(np.sum([c[dw[ci]] for ci in dw]) * 4**10)\n",
    "\n",
    "c = coeffs_product_state(2, 10, 6, 1)[-1]\n",
    "dw = configs_dw(10, 4)\n",
    "print(np.sum([c[dw[ci]] for ci in dw]) * 4**10)"
   ]
  },
  {
   "cell_type": "code",
   "execution_count": 239,
   "metadata": {},
   "outputs": [
    {
     "name": "stdout",
     "output_type": "stream",
     "text": [
      "0.6868134399893335\n"
     ]
    },
    {
     "ename": "KeyboardInterrupt",
     "evalue": "",
     "output_type": "error",
     "traceback": [
      "\u001b[0;31m---------------------------------------------------------------------------\u001b[0m",
      "\u001b[0;31mKeyboardInterrupt\u001b[0m                         Traceback (most recent call last)",
      "\u001b[0;32m<ipython-input-239-a38846867ff0>\u001b[0m in \u001b[0;36m<module>\u001b[0;34m\u001b[0m\n\u001b[1;32m      3\u001b[0m \u001b[0;34m\u001b[0m\u001b[0m\n\u001b[1;32m      4\u001b[0m \u001b[0mc\u001b[0m \u001b[0;34m=\u001b[0m \u001b[0mcoeffs_product_state\u001b[0m\u001b[0;34m(\u001b[0m\u001b[0;36m2\u001b[0m\u001b[0;34m,\u001b[0m \u001b[0;36m14\u001b[0m\u001b[0;34m,\u001b[0m \u001b[0;36m2\u001b[0m\u001b[0;34m,\u001b[0m \u001b[0;36m1\u001b[0m\u001b[0;34m)\u001b[0m\u001b[0;34m[\u001b[0m\u001b[0;34m-\u001b[0m\u001b[0;36m1\u001b[0m\u001b[0;34m]\u001b[0m\u001b[0;34m\u001b[0m\u001b[0;34m\u001b[0m\u001b[0m\n\u001b[0;32m----> 5\u001b[0;31m \u001b[0mprint\u001b[0m\u001b[0;34m(\u001b[0m\u001b[0mcoeffs_trace_norm_2\u001b[0m\u001b[0;34m(\u001b[0m\u001b[0mc\u001b[0m\u001b[0;34m,\u001b[0m \u001b[0;36m14\u001b[0m\u001b[0;34m,\u001b[0m \u001b[0mconfigs_dw\u001b[0m\u001b[0;34m(\u001b[0m\u001b[0;36m14\u001b[0m\u001b[0;34m,\u001b[0m \u001b[0;36m4\u001b[0m\u001b[0;34m)\u001b[0m\u001b[0;34m)\u001b[0m\u001b[0;34m)\u001b[0m\u001b[0;34m\u001b[0m\u001b[0;34m\u001b[0m\u001b[0m\n\u001b[0m",
      "\u001b[0;32m<ipython-input-233-8d239913771f>\u001b[0m in \u001b[0;36mcoeffs_trace_norm_2\u001b[0;34m(c, n, select)\u001b[0m\n\u001b[1;32m     38\u001b[0m                     \u001b[0;32mif\u001b[0m \u001b[0;34m(\u001b[0m\u001b[0mci\u001b[0m\u001b[0;34m[\u001b[0m\u001b[0mi\u001b[0m\u001b[0;34m]\u001b[0m \u001b[0;34m==\u001b[0m \u001b[0;34m'1'\u001b[0m\u001b[0;34m)\u001b[0m \u001b[0;32mand\u001b[0m \u001b[0;34m(\u001b[0m\u001b[0mev\u001b[0m\u001b[0;34m[\u001b[0m\u001b[0mi\u001b[0m\u001b[0;34m]\u001b[0m \u001b[0;34m==\u001b[0m \u001b[0;34m'3'\u001b[0m\u001b[0;34m)\u001b[0m\u001b[0;34m:\u001b[0m\u001b[0;34m\u001b[0m\u001b[0;34m\u001b[0m\u001b[0m\n\u001b[1;32m     39\u001b[0m                         \u001b[0msign\u001b[0m \u001b[0;34m*=\u001b[0m \u001b[0;34m-\u001b[0m\u001b[0;36m1\u001b[0m\u001b[0;34m\u001b[0m\u001b[0;34m\u001b[0m\u001b[0m\n\u001b[0;32m---> 40\u001b[0;31m                 \u001b[0mcosum\u001b[0m \u001b[0;34m+=\u001b[0m \u001b[0msign\u001b[0m \u001b[0;34m*\u001b[0m \u001b[0mcoeffs\u001b[0m\u001b[0;34m[\u001b[0m\u001b[0mci\u001b[0m\u001b[0;34m]\u001b[0m\u001b[0;34m\u001b[0m\u001b[0;34m\u001b[0m\u001b[0m\n\u001b[0m\u001b[1;32m     41\u001b[0m             \u001b[0mresult\u001b[0m \u001b[0;34m+=\u001b[0m \u001b[0mabs\u001b[0m\u001b[0;34m(\u001b[0m\u001b[0mcosum\u001b[0m\u001b[0;34m)\u001b[0m\u001b[0;34m\u001b[0m\u001b[0;34m\u001b[0m\u001b[0m\n\u001b[1;32m     42\u001b[0m             \u001b[0;31m#print(cosum)\u001b[0m\u001b[0;34m\u001b[0m\u001b[0;34m\u001b[0m\u001b[0;34m\u001b[0m\u001b[0m\n",
      "\u001b[0;31mKeyboardInterrupt\u001b[0m: "
     ]
    }
   ],
   "source": [
    "c = coeffs_product_state(2, 12, 2, 1)[-1]\n",
    "print(coeffs_trace_norm_2(c, 12, configs_dw(12, 4)))\n",
    "\n",
    "c = coeffs_product_state(2, 14, 2, 1)[-1]\n",
    "print(coeffs_trace_norm_2(c, 14, configs_dw(14, 4)))"
   ]
  },
  {
   "cell_type": "code",
   "execution_count": null,
   "metadata": {},
   "outputs": [],
   "source": []
  }
 ],
 "metadata": {
  "kernelspec": {
   "display_name": "Python 3",
   "language": "python",
   "name": "python3"
  },
  "language_info": {
   "codemirror_mode": {
    "name": "ipython",
    "version": 3
   },
   "file_extension": ".py",
   "mimetype": "text/x-python",
   "name": "python",
   "nbconvert_exporter": "python",
   "pygments_lexer": "ipython3",
   "version": "3.7.4"
  }
 },
 "nbformat": 4,
 "nbformat_minor": 2
}
