{
 "cells": [
  {
   "cell_type": "code",
   "execution_count": 1,
   "metadata": {},
   "outputs": [],
   "source": [
    "import numpy as np\n",
    "import math\n",
    "import random\n",
    "#from scipy.stats import unitary_group as ug"
   ]
  },
  {
   "cell_type": "code",
   "execution_count": 79,
   "metadata": {},
   "outputs": [],
   "source": [
    "#even n and a, l >= 2\n",
    "q = 2\n",
    "n = 6\n",
    "a = 2\n",
    "l = 4"
   ]
  },
  {
   "cell_type": "code",
   "execution_count": 66,
   "metadata": {},
   "outputs": [],
   "source": [
    "#useful defs\n",
    "d = q**2\n",
    "p = (1/d/(d+1))**(n//2)\n",
    "w = q/(q**2 + 1)\n",
    "cn = 2**n\n",
    "cm = 2**(n//2)\n",
    "configs = {format(i, '0'+str(n)+'b'): i for i in range(cn)}\n",
    "lookup = [{}, {}]   #even, odd\n",
    "for i in range(cm):\n",
    "    rep = format(i, '0'+str(n//2)+'b')\n",
    "    config = ''\n",
    "    for j in range(n//2):\n",
    "        config += rep[j] + rep[j]\n",
    "    lookup[0][config] = configs[config]\n",
    "    configo = config[-1] + config[:-1]\n",
    "    lookup[1][configo] = configs[configo]"
   ]
  },
  {
   "cell_type": "code",
   "execution_count": 3,
   "metadata": {},
   "outputs": [],
   "source": [
    "def trap_bound_1(q, n, a, l):\n",
    "    return 2 * (2 ** (a + 2*l)) * a * ((2*q/(q**2 + 1)) ** l) / (1 - a * ((2*q/(q**2 + 1)) ** l))\n",
    "\n",
    "def trap_bound_2(q, n, a, l):\n",
    "    return 2 * 1/(1 - 2*q/(q**2 + 1)) * (2 ** (a/2 + l)) * a * ((2*q/(q**2 + 1)) ** l) / (1 - a * ((2*q/(q**2 + 1)) ** l))\n",
    "\n",
    "def partial_tr_bound(q, n, a, l):\n",
    "    return 4 * (4 ** a) * a * ((2*q/(q**2 + 1)) ** (2*l))"
   ]
  },
  {
   "cell_type": "code",
   "execution_count": 80,
   "metadata": {},
   "outputs": [
    {
     "name": "stdout",
     "output_type": "stream",
     "text": [
      "[2.27624e-04 0.00000e+00 0.00000e+00 0.00000e+00 0.00000e+00 0.00000e+00\n",
      " 1.38240e-05 0.00000e+00 0.00000e+00 0.00000e+00 0.00000e+00 0.00000e+00\n",
      " 0.00000e+00 0.00000e+00 0.00000e+00 0.00000e+00 0.00000e+00 0.00000e+00\n",
      " 0.00000e+00 0.00000e+00 0.00000e+00 0.00000e+00 0.00000e+00 0.00000e+00\n",
      " 1.38240e-05 0.00000e+00 0.00000e+00 0.00000e+00 0.00000e+00 0.00000e+00\n",
      " 1.38240e-05 0.00000e+00 0.00000e+00 1.38240e-05 0.00000e+00 0.00000e+00\n",
      " 0.00000e+00 0.00000e+00 0.00000e+00 1.38240e-05 0.00000e+00 0.00000e+00\n",
      " 0.00000e+00 0.00000e+00 0.00000e+00 0.00000e+00 0.00000e+00 0.00000e+00\n",
      " 0.00000e+00 0.00000e+00 0.00000e+00 0.00000e+00 0.00000e+00 0.00000e+00\n",
      " 0.00000e+00 0.00000e+00 0.00000e+00 1.38240e-05 0.00000e+00 0.00000e+00\n",
      " 0.00000e+00 0.00000e+00 0.00000e+00 2.27624e-04]\n",
      "0.0005381920000000002\n"
     ]
    }
   ],
   "source": [
    "#compute coefficients for entire circuit with product state input\n",
    "c = np.zeros(((l-1)*n//2 + 1, cn))\n",
    "for cii in lookup[0]:\n",
    "    c[0][lookup[0][cii]] = p\n",
    "offset = -1\n",
    "lastconfig = {cii: offset for cii in lookup[0]}\n",
    "nextconfig = {}\n",
    "for t in range(1, l):\n",
    "    #print(t)\n",
    "    offset *= -1\n",
    "    for g in range(n//2 - 1):\n",
    "        j = (t-1)*n//2 + g + 1\n",
    "        #even layer: g, g-1 input\n",
    "        #odd layer: g, g+1 input\n",
    "        for config in lastconfig:\n",
    "            if config[2*g + 1] == config[2*g + 1 + offset]:\n",
    "                nextconfig[config] = offset\n",
    "                c[j][configs[config]] += c[j - 1][configs[config]]\n",
    "            elif offset > 0:\n",
    "                config1 = config[:2*g + 1] + '00' + config[2*g + 3:]\n",
    "                config2 = config[:2*g + 1] + '11' + config[2*g + 3:]\n",
    "                nextconfig[config1] = offset\n",
    "                nextconfig[config2] = offset\n",
    "                c[j][configs[config1]] += c[j - 1][configs[config]] * w\n",
    "                c[j][configs[config2]] += c[j - 1][configs[config]] * w\n",
    "            else:\n",
    "                config1 = config[:2*g] + '00' + config[2*g + 2:]\n",
    "                config2 = config[:2*g] + '11' + config[2*g + 2:]\n",
    "                nextconfig[config1] = offset\n",
    "                nextconfig[config2] = offset\n",
    "                c[j][configs[config1]] += c[j - 1][configs[config]] * w\n",
    "                c[j][configs[config2]] += c[j - 1][configs[config]] * w\n",
    "        #print(g)\n",
    "        #print(lastconfig)\n",
    "        #print(nextconfig)\n",
    "        #print()\n",
    "        lastconfig = nextconfig\n",
    "        nextconfig = {}\n",
    "    #last gate separately\n",
    "    j = t*n//2\n",
    "    g = -1\n",
    "    for config in lastconfig:\n",
    "        if config[2*g + 1] == config[2*g + 1 + offset]:\n",
    "            nextconfig[config] = offset\n",
    "            c[j][configs[config]] += c[j - 1][configs[config]]\n",
    "        elif offset < 0:\n",
    "            config1 = config[:-2] + '00'\n",
    "            config2 = config[:-2] + '11'\n",
    "            nextconfig[config1] = offset\n",
    "            nextconfig[config2] = offset\n",
    "            c[j][configs[config1]] += c[j - 1][configs[config]] * w\n",
    "            c[j][configs[config2]] += c[j - 1][configs[config]] * w\n",
    "        else:\n",
    "            config1 = '0' + config[1:-1] + '0'\n",
    "            config2 = '1' + config[1:-1] + '1'\n",
    "            nextconfig[config1] = offset\n",
    "            nextconfig[config2] = offset\n",
    "            c[j][configs[config1]] += c[j - 1][configs[config]] * w\n",
    "            c[j][configs[config2]] += c[j - 1][configs[config]] * w\n",
    "    #print(lastconfig)\n",
    "    #print(nextconfig)\n",
    "    lastconfig = nextconfig\n",
    "    nextconfig = {}\n",
    "#print(lastconfig)\n",
    "print(c[-1])\n",
    "print(np.sum(c[-1]))\n",
    "#compute trace norm of output"
   ]
  },
  {
   "cell_type": "code",
   "execution_count": 4,
   "metadata": {},
   "outputs": [],
   "source": [
    "#compute coefficients for trapezoidal circuit"
   ]
  },
  {
   "cell_type": "code",
   "execution_count": null,
   "metadata": {},
   "outputs": [],
   "source": [
    "#compute coefficients for partial trace over output"
   ]
  },
  {
   "cell_type": "raw",
   "metadata": {},
   "source": []
  }
 ],
 "metadata": {
  "kernelspec": {
   "display_name": "Python 3",
   "language": "python",
   "name": "python3"
  },
  "language_info": {
   "codemirror_mode": {
    "name": "ipython",
    "version": 3
   },
   "file_extension": ".py",
   "mimetype": "text/x-python",
   "name": "python",
   "nbconvert_exporter": "python",
   "pygments_lexer": "ipython3",
   "version": "3.7.4"
  }
 },
 "nbformat": 4,
 "nbformat_minor": 2
}
