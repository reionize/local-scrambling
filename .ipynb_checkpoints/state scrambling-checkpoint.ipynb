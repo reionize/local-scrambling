{
 "cells": [
  {
   "cell_type": "code",
   "execution_count": 1,
   "metadata": {},
   "outputs": [],
   "source": [
    "import numpy as np\n",
    "import math\n",
    "import random\n",
    "#from scipy.stats import unitary_group as ug"
   ]
  },
  {
   "cell_type": "code",
   "execution_count": 3,
   "metadata": {},
   "outputs": [],
   "source": [
    "def trap_bound_1(q, n, a, l):\n",
    "    return 2 * (2 ** (a + 2*l)) * a * ((2*q/(q**2 + 1)) ** l) / (1 - a * ((2*q/(q**2 + 1)) ** l))\n",
    "\n",
    "def trap_bound_2(q, n, a, l):\n",
    "    return 2 * 1/(1 - 2*q/(q**2 + 1)) * (2 ** (a/2 + l)) * a * ((2*q/(q**2 + 1)) ** l) / (1 - a * ((2*q/(q**2 + 1)) ** l))\n",
    "\n",
    "def partial_tr_bound(q, n, a, l):\n",
    "    return 4 * (4 ** a) * a * ((2*q/(q**2 + 1)) ** (2*l))"
   ]
  },
  {
   "cell_type": "code",
   "execution_count": 120,
   "metadata": {},
   "outputs": [],
   "source": [
    "#compute coefficients for entire circuit with product state input\n",
    "#n should be even, l >= 2, q >= 2\n",
    "def coeffs_product_state(q, n, l, lstep):\n",
    "    #useful defs\n",
    "    d = q**2\n",
    "    w = q/(q**2 + 1)\n",
    "    cn = 2**n\n",
    "    cm = 2**(n//2)\n",
    "    configs = {format(i, '0'+str(n)+'b'): i for i in range(cn)}\n",
    "    lastconfig = {}\n",
    "    for i in range(cm):\n",
    "        rep = format(i, '0'+str(n//2)+'b')\n",
    "        config = ''\n",
    "        for j in range(n//2):\n",
    "            config += rep[j] + rep[j]\n",
    "        lastconfig[config] = configs[config]\n",
    "    c = np.zeros(((l-1)*n//2 + 1, cn))\n",
    "    for cii in lastconfig:\n",
    "        c[0][lastconfig[cii]] = (1/d/(d+1))**(n//2)\n",
    "    offset = -1\n",
    "    nextconfig = {}\n",
    "    for t in range(1, l):\n",
    "        #print(t)\n",
    "        offset *= -1\n",
    "        for g in range(n//2 - 1):\n",
    "            j = (t-1)*n//2 + g + 1\n",
    "            #even layer: g, g-1 input\n",
    "            #odd layer: g, g+1 input\n",
    "            for config in lastconfig:\n",
    "                if config[2*g + 1] == config[2*g + 1 + offset]:\n",
    "                    nextconfig[config] = offset\n",
    "                    c[j][configs[config]] += c[j - 1][configs[config]]\n",
    "                elif offset > 0:\n",
    "                    config1 = config[:2*g + 1] + '00' + config[2*g + 3:]\n",
    "                    config2 = config[:2*g + 1] + '11' + config[2*g + 3:]\n",
    "                    nextconfig[config1] = offset\n",
    "                    nextconfig[config2] = offset\n",
    "                    c[j][configs[config1]] += c[j - 1][configs[config]] * w\n",
    "                    c[j][configs[config2]] += c[j - 1][configs[config]] * w\n",
    "                else:\n",
    "                    config1 = config[:2*g] + '00' + config[2*g + 2:]\n",
    "                    config2 = config[:2*g] + '11' + config[2*g + 2:]\n",
    "                    nextconfig[config1] = offset\n",
    "                    nextconfig[config2] = offset\n",
    "                    c[j][configs[config1]] += c[j - 1][configs[config]] * w\n",
    "                    c[j][configs[config2]] += c[j - 1][configs[config]] * w\n",
    "            #print(g)\n",
    "            #print(lastconfig)\n",
    "            #print(nextconfig)\n",
    "            #print()\n",
    "            lastconfig = nextconfig\n",
    "            nextconfig = {}\n",
    "        #last gate separately\n",
    "        j = t*n//2\n",
    "        g = -1\n",
    "        for config in lastconfig:\n",
    "            if config[2*g + 1] == config[2*g + 1 + offset]:\n",
    "                nextconfig[config] = offset\n",
    "                c[j][configs[config]] += c[j - 1][configs[config]]\n",
    "            elif offset < 0:\n",
    "                config1 = config[:-2] + '00'\n",
    "                config2 = config[:-2] + '11'\n",
    "                nextconfig[config1] = offset\n",
    "                nextconfig[config2] = offset\n",
    "                c[j][configs[config1]] += c[j - 1][configs[config]] * w\n",
    "                c[j][configs[config2]] += c[j - 1][configs[config]] * w\n",
    "            else:\n",
    "                config1 = '0' + config[1:-1] + '0'\n",
    "                config2 = '1' + config[1:-1] + '1'\n",
    "                nextconfig[config1] = offset\n",
    "                nextconfig[config2] = offset\n",
    "                c[j][configs[config1]] += c[j - 1][configs[config]] * w\n",
    "                c[j][configs[config2]] += c[j - 1][configs[config]] * w\n",
    "        #print(lastconfig)\n",
    "        #print(nextconfig)\n",
    "        lastconfig = nextconfig\n",
    "        nextconfig = {}\n",
    "    #print(lastconfig)\n",
    "    #print(c[-1])\n",
    "    print(np.sum(c[-1]) - c[-1][0] - c[-1][-1])\n",
    "    return [c[lstep*i*n//2] for i in range(l//lstep)]\n",
    "\n",
    "#compute trace norm of output"
   ]
  },
  {
   "cell_type": "code",
   "execution_count": 4,
   "metadata": {},
   "outputs": [],
   "source": [
    "#compute coefficients for trapezoidal circuit"
   ]
  },
  {
   "cell_type": "code",
   "execution_count": null,
   "metadata": {},
   "outputs": [],
   "source": [
    "#compute coefficients for partial trace over output"
   ]
  },
  {
   "cell_type": "code",
   "execution_count": 127,
   "metadata": {},
   "outputs": [
    {
     "name": "stdout",
     "output_type": "stream",
     "text": [
      "5.548758205608522e-08\n"
     ]
    }
   ],
   "source": [
    "c = coeffs_product_state(2, 10, 10, 1)\n",
    "#print(c[-1])"
   ]
  },
  {
   "cell_type": "code",
   "execution_count": null,
   "metadata": {},
   "outputs": [],
   "source": []
  }
 ],
 "metadata": {
  "kernelspec": {
   "display_name": "Python 3",
   "language": "python",
   "name": "python3"
  },
  "language_info": {
   "codemirror_mode": {
    "name": "ipython",
    "version": 3
   },
   "file_extension": ".py",
   "mimetype": "text/x-python",
   "name": "python",
   "nbconvert_exporter": "python",
   "pygments_lexer": "ipython3",
   "version": "3.7.4"
  }
 },
 "nbformat": 4,
 "nbformat_minor": 2
}
