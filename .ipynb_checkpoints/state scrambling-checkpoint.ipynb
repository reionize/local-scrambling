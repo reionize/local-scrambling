{
 "cells": [
  {
   "cell_type": "code",
   "execution_count": 1,
   "metadata": {},
   "outputs": [],
   "source": [
    "import numpy as np\n",
    "import math\n",
    "import random\n",
    "#from scipy.stats import unitary_group as ug"
   ]
  },
  {
   "cell_type": "code",
   "execution_count": 2,
   "metadata": {},
   "outputs": [],
   "source": [
    "def trap_bound(q, a, l):\n",
    "    return 2 * a * ((2/(q**2 * (q**2 + 1))) ** (a//2 + l)) * ((2*q/(q**2 + 1)) ** l) / (1 - a * ((2*q/(q**2 + 1)) ** l)) * q ** (2*a + 4*l)\n",
    "\n",
    "def partial_tr_bound(q, a, l):\n",
    "    return 4 * (4 ** a) * a * ((2*q/(q**2 + 1)) ** (2*l))"
   ]
  },
  {
   "cell_type": "code",
   "execution_count": 3,
   "metadata": {},
   "outputs": [],
   "source": [
    "#compute coefficients for entire circuit with product state input\n",
    "#n should be even, l >= 2, q >= 2\n",
    "def coeffs_product_state(q, n, l, lstep):\n",
    "    #useful defs\n",
    "    d = q**2\n",
    "    w = q/(q**2 + 1)\n",
    "    cn = 2**n\n",
    "    cm = 2**(n//2)\n",
    "    configs = {format(i, '0'+str(n)+'b'): i for i in range(cn)}\n",
    "    lastconfig = {}\n",
    "    for i in range(cm):\n",
    "        rep = format(i, '0'+str(n//2)+'b')\n",
    "        config = ''\n",
    "        for j in range(n//2):\n",
    "            config += rep[j] + rep[j]\n",
    "        lastconfig[config] = configs[config]\n",
    "    c = np.zeros(((l-1)*n//2 + 1, cn))\n",
    "    for cii in lastconfig:\n",
    "        c[0][lastconfig[cii]] = (1/d/(d+1))**(n//2)\n",
    "    offset = -1\n",
    "    nextconfig = {}\n",
    "    for t in range(1, l):\n",
    "        #print(t)\n",
    "        offset *= -1\n",
    "        for g in range(n//2 - 1):\n",
    "            j = (t-1)*n//2 + g + 1\n",
    "            #even layer: g, g-1 input\n",
    "            #odd layer: g, g+1 input\n",
    "            for config in lastconfig:\n",
    "                if config[2*g + 1] == config[2*g + 1 + offset]:\n",
    "                    nextconfig[config] = offset\n",
    "                    c[j][configs[config]] += c[j - 1][configs[config]]\n",
    "                elif offset > 0:\n",
    "                    config1 = config[:2*g + 1] + '00' + config[2*g + 3:]\n",
    "                    config2 = config[:2*g + 1] + '11' + config[2*g + 3:]\n",
    "                    nextconfig[config1] = offset\n",
    "                    nextconfig[config2] = offset\n",
    "                    c[j][configs[config1]] += c[j - 1][configs[config]] * w\n",
    "                    c[j][configs[config2]] += c[j - 1][configs[config]] * w\n",
    "                else:\n",
    "                    config1 = config[:2*g] + '00' + config[2*g + 2:]\n",
    "                    config2 = config[:2*g] + '11' + config[2*g + 2:]\n",
    "                    nextconfig[config1] = offset\n",
    "                    nextconfig[config2] = offset\n",
    "                    c[j][configs[config1]] += c[j - 1][configs[config]] * w\n",
    "                    c[j][configs[config2]] += c[j - 1][configs[config]] * w\n",
    "            #print(g)\n",
    "            #print(lastconfig)\n",
    "            #print(nextconfig)\n",
    "            #print()\n",
    "            lastconfig = nextconfig\n",
    "            nextconfig = {}\n",
    "        #last gate separately\n",
    "        j = t*n//2\n",
    "        g = -1\n",
    "        for config in lastconfig:\n",
    "            if config[2*g + 1] == config[2*g + 1 + offset]:\n",
    "                nextconfig[config] = offset\n",
    "                c[j][configs[config]] += c[j - 1][configs[config]]\n",
    "            elif offset < 0:\n",
    "                config1 = config[:-2] + '00'\n",
    "                config2 = config[:-2] + '11'\n",
    "                nextconfig[config1] = offset\n",
    "                nextconfig[config2] = offset\n",
    "                c[j][configs[config1]] += c[j - 1][configs[config]] * w\n",
    "                c[j][configs[config2]] += c[j - 1][configs[config]] * w\n",
    "            else:\n",
    "                config1 = '0' + config[1:-1] + '0'\n",
    "                config2 = '1' + config[1:-1] + '1'\n",
    "                nextconfig[config1] = offset\n",
    "                nextconfig[config2] = offset\n",
    "                c[j][configs[config1]] += c[j - 1][configs[config]] * w\n",
    "                c[j][configs[config2]] += c[j - 1][configs[config]] * w\n",
    "        #print(lastconfig)\n",
    "        #print(nextconfig)\n",
    "        lastconfig = nextconfig\n",
    "        nextconfig = {}\n",
    "    #print(lastconfig)\n",
    "    #print(c[-1])\n",
    "    #print(np.sum(c[-1]) - c[-1][0] - c[-1][-1])\n",
    "    return [c[lstep*i*n//2] for i in range(l//lstep)]"
   ]
  },
  {
   "cell_type": "code",
   "execution_count": 44,
   "metadata": {},
   "outputs": [],
   "source": [
    "#returns configurations with domain wall in region of specified size, q = 2, n >= a\n",
    "def configs_dw(n, a):\n",
    "    result = {}\n",
    "    configs = {format(i, '0'+str(n)+'b'): i for i in range(2**n)}\n",
    "    s = (n - a)//2\n",
    "    for cii in configs:\n",
    "        if ('0' in cii[s:-s]) and ('1' in cii[s:-s]):\n",
    "            result[cii] = configs[cii]\n",
    "    return result\n",
    "\n",
    "def configs_dw_ns(n, a):\n",
    "    result = {}\n",
    "    configs = {format(i, '0'+str(n)+'b'): i for i in range(2**n)}\n",
    "    for cii in configs:\n",
    "        if ('0' in cii[:a]) and ('1' in cii[:a]):\n",
    "            result[cii] = configs[cii]\n",
    "    return result"
   ]
  },
  {
   "cell_type": "code",
   "execution_count": 57,
   "metadata": {},
   "outputs": [],
   "source": [
    "#compute trace norm given output coefficients\n",
    "def coeffs_trace_norm(c, q, n, select):\n",
    "    #TODO\n",
    "    if len(c) != 2**n:\n",
    "        print('Dimensions must match!')\n",
    "        return -1\n",
    "    if len(select) == 0:\n",
    "        return 0\n",
    "    if len(select[0]) != n:\n",
    "        print('Dimensions must match!')\n",
    "        return -1\n",
    "    #swap has q + q(q-1)/2 eigenvectors with +1 and q(q-1)/2 eigenvectors with -1\n",
    "    return -1\n",
    "\n",
    "#compute trace norm given output coefficients, q = 2\n",
    "def coeffs_trace_norm_2(c, n, select):\n",
    "    if len(c) != 2**n:\n",
    "        print('Dimensions must match!')\n",
    "        return -1\n",
    "    if len(select) == 0:\n",
    "        return 0\n",
    "    #swap has 3 eigenvectors with +1 and one with -1\n",
    "    evs = [format(i, '0'+str(n)+'b') for i in range(2**n)]\n",
    "    coeffs = {}\n",
    "    for ci in select:\n",
    "        if c[select[ci]] != 0:\n",
    "            coeffs[ci] = c[select[ci]]\n",
    "    result = 0\n",
    "    #print([coeffs[ci] for ci in coeffs])\n",
    "    for ev in evs:\n",
    "        cosum = 0\n",
    "        w = ev.count('1')\n",
    "        for ci in coeffs:\n",
    "            sign = 1\n",
    "            for i in range(n):\n",
    "                if ev[i] == '1' and ci[i] == '1':\n",
    "                    sign *= -1\n",
    "            cosum += sign * coeffs[ci]\n",
    "        #print(w)\n",
    "        result += (3**w) * abs(cosum)\n",
    "        #print(cosum)\n",
    "    return result"
   ]
  },
  {
   "cell_type": "code",
   "execution_count": 6,
   "metadata": {},
   "outputs": [],
   "source": [
    "#compute coefficients for trapezoidal circuit\n",
    "#a should be even, l >= 2, q >= 2\n",
    "def coeffs_trap_product_state(q, a, l, lstep):\n",
    "    #useful defs\n",
    "    n = a + 2 * (l - 1)\n",
    "    d = q**2\n",
    "    w = q/(q**2 + 1)\n",
    "    cn = 2**n\n",
    "    cm = 2**(n//2)\n",
    "    configs = {format(i, '0'+str(n)+'b'): i for i in range(cn)}\n",
    "    lastconfig = {}\n",
    "    for i in range(cm):\n",
    "        rep = format(i, '0'+str(n//2)+'b')\n",
    "        config = ''\n",
    "        for j in range(n//2):\n",
    "            config += rep[j] + rep[j]\n",
    "        lastconfig[config] = configs[config]\n",
    "    c = np.zeros(((l-1)*(n//2 + a//2 - 1)//2 + 1, cn))\n",
    "    for cii in lastconfig:\n",
    "        c[0][lastconfig[cii]] = (1/d/(d+1))**(n//2)\n",
    "    offset = -1\n",
    "    nextconfig = {}\n",
    "    lsgates = [i for i in range(n//2 - 1)]\n",
    "    j = 0\n",
    "    for t in range(1, l):\n",
    "        #print(t)\n",
    "        offset *= -1\n",
    "        for g in lsgates:\n",
    "            j += 1\n",
    "            #even layer: g, g-1 input\n",
    "            #odd layer: g, g+1 input\n",
    "            for config in lastconfig:\n",
    "                if config[2*g + 1] == config[2*g + 1 + offset]:\n",
    "                    nextconfig[config] = offset\n",
    "                    c[j][configs[config]] += c[j - 1][configs[config]]\n",
    "                elif offset > 0:\n",
    "                    config1 = config[:2*g + 1] + '00' + config[2*g + 3:]\n",
    "                    config2 = config[:2*g + 1] + '11' + config[2*g + 3:]\n",
    "                    nextconfig[config1] = offset\n",
    "                    nextconfig[config2] = offset\n",
    "                    c[j][configs[config1]] += c[j - 1][configs[config]] * w\n",
    "                    c[j][configs[config2]] += c[j - 1][configs[config]] * w\n",
    "                else:\n",
    "                    config1 = config[:2*g] + '00' + config[2*g + 2:]\n",
    "                    config2 = config[:2*g] + '11' + config[2*g + 2:]\n",
    "                    nextconfig[config1] = offset\n",
    "                    nextconfig[config2] = offset\n",
    "                    c[j][configs[config1]] += c[j - 1][configs[config]] * w\n",
    "                    c[j][configs[config2]] += c[j - 1][configs[config]] * w\n",
    "            #print(g)\n",
    "            #print(lastconfig)\n",
    "            #print(nextconfig)\n",
    "            #print()\n",
    "            lastconfig = nextconfig\n",
    "            nextconfig = {}\n",
    "        #print(lastconfig)\n",
    "        #print(nextconfig)\n",
    "        del lsgates[(offset - 1)//2]\n",
    "        #print(lsgates)\n",
    "    #print(lastconfig)\n",
    "    #print(c[-1])\n",
    "    #print(np.sum(c[-1]) - c[-1][0] - c[-1][-1])\n",
    "    #print(j)\n",
    "    return [c[lstep*i*(n - lstep*i - 1)//2] for i in range(l//lstep)]"
   ]
  },
  {
   "cell_type": "code",
   "execution_count": null,
   "metadata": {},
   "outputs": [],
   "source": [
    "#compute coefficients for partial trace over output"
   ]
  },
  {
   "cell_type": "code",
   "execution_count": 11,
   "metadata": {},
   "outputs": [
    {
     "name": "stdout",
     "output_type": "stream",
     "text": [
      "6\n",
      "8\n"
     ]
    }
   ],
   "source": [
    "q = 2\n",
    "l = 10\n",
    "lstep = 1\n",
    "for n in [6, 8]:\n",
    "    c = coeffs_product_state(q, n, l, lstep)\n",
    "    print(n)\n",
    "    f = open('output/coeffs_product_state_' + str(n) + '_' + str(l) + '_' + str(lstep), 'w')\n",
    "    for t in range(len(c)):\n",
    "        f.writelines('%s\\n' % ci for ci in c[t])\n",
    "        f.write('\\n')\n",
    "    f.close()\n",
    "#dw = configs_dw(n, a)"
   ]
  },
  {
   "cell_type": "code",
   "execution_count": 40,
   "metadata": {},
   "outputs": [],
   "source": [
    "for n in [10, 12, 14, 16, 18, 20, 22, 24]:\n",
    "    for a in [8]:\n",
    "        dw = configs_dw(n, a)\n",
    "        with open('output/configs_dw_' + str(n) + '_' + str(a), 'w') as f:\n",
    "            f.writelines('%s\\n' % cii for cii in [dw[cii] for cii in dw])"
   ]
  },
  {
   "cell_type": "code",
   "execution_count": 238,
   "metadata": {},
   "outputs": [
    {
     "name": "stdout",
     "output_type": "stream",
     "text": [
      "2.479882240000001\n",
      "0.7331556418912262\n",
      "0.21875936041865396\n",
      "3.628072960000002\n",
      "1.1251311076966406\n",
      "0.3750882323283421\n"
     ]
    }
   ],
   "source": [
    "c = coeffs_product_state(2, 8, 2, 1)[-1]\n",
    "dw = configs_dw(8, 4)\n",
    "print(np.sum([c[dw[ci]] for ci in dw]) * 4**8)\n",
    "\n",
    "c = coeffs_product_state(2, 8, 4, 1)[-1]\n",
    "dw = configs_dw(8, 4)\n",
    "print(np.sum([c[dw[ci]] for ci in dw]) * 4**8)\n",
    "\n",
    "c = coeffs_product_state(2, 8, 6, 1)[-1]\n",
    "dw = configs_dw(8, 4)\n",
    "print(np.sum([c[dw[ci]] for ci in dw]) * 4**8)\n",
    "\n",
    "c = coeffs_product_state(2, 10, 2, 1)[-1]\n",
    "dw = configs_dw(10, 4)\n",
    "print(np.sum([c[dw[ci]] for ci in dw]) * 4**10)\n",
    "\n",
    "c = coeffs_product_state(2, 10, 4, 1)[-1]\n",
    "dw = configs_dw(10, 4)\n",
    "print(np.sum([c[dw[ci]] for ci in dw]) * 4**10)\n",
    "\n",
    "c = coeffs_product_state(2, 10, 6, 1)[-1]\n",
    "dw = configs_dw(10, 4)\n",
    "print(np.sum([c[dw[ci]] for ci in dw]) * 4**10)"
   ]
  },
  {
   "cell_type": "code",
   "execution_count": 55,
   "metadata": {},
   "outputs": [
    {
     "name": "stdout",
     "output_type": "stream",
     "text": [
      "7.537774978662405\n",
      "2.0342520373053503\n",
      "2.003475038446715\n",
      "0.6210692236753136\n",
      "0.6934553422794508\n"
     ]
    }
   ],
   "source": [
    "c = coeffs_product_state(2, 14, 2, 1)[-1]\n",
    "dw = configs_dw(14, 4)\n",
    "print(np.sum([c[dw[ci]] for ci in dw]) * 4**14)\n",
    "\n",
    "c = coeffs_product_state(2, 14, 3, 1)[-1]\n",
    "dw = configs_dw(14, 4)\n",
    "print(np.sum([c[dw[ci]] for ci in dw]) * 4**14)\n",
    "\n",
    "c = coeffs_product_state(2, 14, 4, 1)[-1]\n",
    "dw = configs_dw(14, 4)\n",
    "print(np.sum([c[dw[ci]] for ci in dw]) * 4**14)\n",
    "\n",
    "c = coeffs_product_state(2, 14, 5, 1)[-1]\n",
    "dw = configs_dw(14, 4)\n",
    "print(np.sum([c[dw[ci]] for ci in dw]) * 4**14)\n",
    "\n",
    "c = coeffs_product_state(2, 14, 6, 1)[-1]\n",
    "dw = configs_dw(14, 4)\n",
    "print(np.sum([c[dw[ci]] for ci in dw]) * 4**14)"
   ]
  },
  {
   "cell_type": "code",
   "execution_count": 71,
   "metadata": {},
   "outputs": [
    {
     "name": "stdout",
     "output_type": "stream",
     "text": [
      "1.2230275348579154\n",
      "0.7220146323083957\n",
      "0.7192715036162945\n",
      "0.718018888048598\n"
     ]
    },
    {
     "ename": "KeyboardInterrupt",
     "evalue": "",
     "output_type": "error",
     "traceback": [
      "\u001b[0;31m---------------------------------------------------------------------------\u001b[0m",
      "\u001b[0;31mKeyboardInterrupt\u001b[0m                         Traceback (most recent call last)",
      "\u001b[0;32m<ipython-input-71-dcc9f45decd5>\u001b[0m in \u001b[0;36m<module>\u001b[0;34m\u001b[0m\n\u001b[1;32m     17\u001b[0m \u001b[0mprint\u001b[0m\u001b[0;34m(\u001b[0m\u001b[0mnp\u001b[0m\u001b[0;34m.\u001b[0m\u001b[0msum\u001b[0m\u001b[0;34m(\u001b[0m\u001b[0;34m[\u001b[0m\u001b[0mc\u001b[0m\u001b[0;34m[\u001b[0m\u001b[0;34m-\u001b[0m\u001b[0;36m1\u001b[0m\u001b[0;34m]\u001b[0m\u001b[0;34m[\u001b[0m\u001b[0mdw\u001b[0m\u001b[0;34m[\u001b[0m\u001b[0mci\u001b[0m\u001b[0;34m]\u001b[0m\u001b[0;34m]\u001b[0m \u001b[0;32mfor\u001b[0m \u001b[0mci\u001b[0m \u001b[0;32min\u001b[0m \u001b[0mdw\u001b[0m\u001b[0;34m]\u001b[0m\u001b[0;34m)\u001b[0m \u001b[0;34m*\u001b[0m \u001b[0md\u001b[0m\u001b[0;34m**\u001b[0m\u001b[0;36m18\u001b[0m\u001b[0;34m)\u001b[0m\u001b[0;34m\u001b[0m\u001b[0;34m\u001b[0m\u001b[0m\n\u001b[1;32m     18\u001b[0m \u001b[0;34m\u001b[0m\u001b[0m\n\u001b[0;32m---> 19\u001b[0;31m \u001b[0mc\u001b[0m \u001b[0;34m=\u001b[0m \u001b[0mcoeffs_trap_product_state\u001b[0m\u001b[0;34m(\u001b[0m\u001b[0mq\u001b[0m\u001b[0;34m,\u001b[0m \u001b[0;36m4\u001b[0m\u001b[0;34m,\u001b[0m \u001b[0;36m10\u001b[0m\u001b[0;34m,\u001b[0m \u001b[0;36m1\u001b[0m\u001b[0;34m)\u001b[0m\u001b[0;34m\u001b[0m\u001b[0;34m\u001b[0m\u001b[0m\n\u001b[0m\u001b[1;32m     20\u001b[0m \u001b[0mdw\u001b[0m \u001b[0;34m=\u001b[0m \u001b[0mconfigs_dw\u001b[0m\u001b[0;34m(\u001b[0m\u001b[0;36m22\u001b[0m\u001b[0;34m,\u001b[0m \u001b[0;36m4\u001b[0m\u001b[0;34m)\u001b[0m\u001b[0;34m\u001b[0m\u001b[0;34m\u001b[0m\u001b[0m\n\u001b[1;32m     21\u001b[0m \u001b[0mprint\u001b[0m\u001b[0;34m(\u001b[0m\u001b[0mnp\u001b[0m\u001b[0;34m.\u001b[0m\u001b[0msum\u001b[0m\u001b[0;34m(\u001b[0m\u001b[0;34m[\u001b[0m\u001b[0mc\u001b[0m\u001b[0;34m[\u001b[0m\u001b[0;34m-\u001b[0m\u001b[0;36m1\u001b[0m\u001b[0;34m]\u001b[0m\u001b[0;34m[\u001b[0m\u001b[0mdw\u001b[0m\u001b[0;34m[\u001b[0m\u001b[0mci\u001b[0m\u001b[0;34m]\u001b[0m\u001b[0;34m]\u001b[0m \u001b[0;32mfor\u001b[0m \u001b[0mci\u001b[0m \u001b[0;32min\u001b[0m \u001b[0mdw\u001b[0m\u001b[0;34m]\u001b[0m\u001b[0;34m)\u001b[0m \u001b[0;34m*\u001b[0m \u001b[0md\u001b[0m\u001b[0;34m**\u001b[0m\u001b[0;36m22\u001b[0m\u001b[0;34m)\u001b[0m\u001b[0;34m\u001b[0m\u001b[0;34m\u001b[0m\u001b[0m\n",
      "\u001b[0;32m<ipython-input-47-77a5928ac9c9>\u001b[0m in \u001b[0;36mcoeffs_trap_product_state\u001b[0;34m(q, a, l, lstep)\u001b[0m\n\u001b[1;32m     46\u001b[0m                     \u001b[0mnextconfig\u001b[0m\u001b[0;34m[\u001b[0m\u001b[0mconfig1\u001b[0m\u001b[0;34m]\u001b[0m \u001b[0;34m=\u001b[0m \u001b[0moffset\u001b[0m\u001b[0;34m\u001b[0m\u001b[0;34m\u001b[0m\u001b[0m\n\u001b[1;32m     47\u001b[0m                     \u001b[0mnextconfig\u001b[0m\u001b[0;34m[\u001b[0m\u001b[0mconfig2\u001b[0m\u001b[0;34m]\u001b[0m \u001b[0;34m=\u001b[0m \u001b[0moffset\u001b[0m\u001b[0;34m\u001b[0m\u001b[0;34m\u001b[0m\u001b[0m\n\u001b[0;32m---> 48\u001b[0;31m                     \u001b[0mc\u001b[0m\u001b[0;34m[\u001b[0m\u001b[0mj\u001b[0m\u001b[0;34m]\u001b[0m\u001b[0;34m[\u001b[0m\u001b[0mconfigs\u001b[0m\u001b[0;34m[\u001b[0m\u001b[0mconfig1\u001b[0m\u001b[0;34m]\u001b[0m\u001b[0;34m]\u001b[0m \u001b[0;34m+=\u001b[0m \u001b[0mc\u001b[0m\u001b[0;34m[\u001b[0m\u001b[0mj\u001b[0m \u001b[0;34m-\u001b[0m \u001b[0;36m1\u001b[0m\u001b[0;34m]\u001b[0m\u001b[0;34m[\u001b[0m\u001b[0mconfigs\u001b[0m\u001b[0;34m[\u001b[0m\u001b[0mconfig\u001b[0m\u001b[0;34m]\u001b[0m\u001b[0;34m]\u001b[0m \u001b[0;34m*\u001b[0m \u001b[0mw\u001b[0m\u001b[0;34m\u001b[0m\u001b[0;34m\u001b[0m\u001b[0m\n\u001b[0m\u001b[1;32m     49\u001b[0m                     \u001b[0mc\u001b[0m\u001b[0;34m[\u001b[0m\u001b[0mj\u001b[0m\u001b[0;34m]\u001b[0m\u001b[0;34m[\u001b[0m\u001b[0mconfigs\u001b[0m\u001b[0;34m[\u001b[0m\u001b[0mconfig2\u001b[0m\u001b[0;34m]\u001b[0m\u001b[0;34m]\u001b[0m \u001b[0;34m+=\u001b[0m \u001b[0mc\u001b[0m\u001b[0;34m[\u001b[0m\u001b[0mj\u001b[0m \u001b[0;34m-\u001b[0m \u001b[0;36m1\u001b[0m\u001b[0;34m]\u001b[0m\u001b[0;34m[\u001b[0m\u001b[0mconfigs\u001b[0m\u001b[0;34m[\u001b[0m\u001b[0mconfig\u001b[0m\u001b[0;34m]\u001b[0m\u001b[0;34m]\u001b[0m \u001b[0;34m*\u001b[0m \u001b[0mw\u001b[0m\u001b[0;34m\u001b[0m\u001b[0;34m\u001b[0m\u001b[0m\n\u001b[1;32m     50\u001b[0m             \u001b[0;31m#print(g)\u001b[0m\u001b[0;34m\u001b[0m\u001b[0;34m\u001b[0m\u001b[0;34m\u001b[0m\u001b[0m\n",
      "\u001b[0;31mKeyboardInterrupt\u001b[0m: "
     ]
    }
   ],
   "source": [
    "q = 5\n",
    "d = q**2\n",
    "c = coeffs_trap_product_state(q, 4, 2, 1)\n",
    "dw = configs_dw(6, 4)\n",
    "print(np.sum([c[-1][dw[ci]] for ci in dw]) * d**6)\n",
    "\n",
    "c = coeffs_trap_product_state(q, 4, 4, 1)\n",
    "dw = configs_dw(10, 4)\n",
    "print(np.sum([c[-1][dw[ci]] for ci in dw]) * d**10)\n",
    "\n",
    "c = coeffs_trap_product_state(q, 4, 6, 1)\n",
    "dw = configs_dw(14, 4)\n",
    "print(np.sum([c[-1][dw[ci]] for ci in dw]) * d**14)\n",
    "\n",
    "c = coeffs_trap_product_state(q, 4, 8, 1)\n",
    "dw = configs_dw(18, 4)\n",
    "print(np.sum([c[-1][dw[ci]] for ci in dw]) * d**18)\n",
    "\n",
    "c = coeffs_trap_product_state(q, 4, 10, 1)\n",
    "dw = configs_dw(22, 4)\n",
    "print(np.sum([c[-1][dw[ci]] for ci in dw]) * d**22)\n",
    "\n",
    "c = coeffs_trap_product_state(q, 4, 12, 1)\n",
    "dw = configs_dw(26, 4)\n",
    "print(np.sum([c[-1][dw[ci]] for ci in dw]) * d**26)"
   ]
  },
  {
   "cell_type": "code",
   "execution_count": 76,
   "metadata": {},
   "outputs": [
    {
     "name": "stdout",
     "output_type": "stream",
     "text": [
      "1.4539379669924506\n",
      "194.78712557502328\n",
      "\n",
      "1.0156160351072585\n",
      "21.711725800546134\n",
      "\n",
      "1.0298293915926116\n",
      "14.316385110973101\n",
      "\n",
      "1.030273889736587\n",
      "10.849940346129092\n",
      "\n",
      "1.0300990286498986\n",
      "8.44966623726645\n",
      "\n"
     ]
    }
   ],
   "source": [
    "q = 4\n",
    "c = coeffs_trap_product_state(q, 4, 2, 1)\n",
    "dw = configs_dw(6, 4)\n",
    "print(np.sum([c[-1][dw[ci]] for ci in dw]) * 16**6)\n",
    "print(trap_bound(q, 4, 2))\n",
    "print()\n",
    "\n",
    "c = coeffs_trap_product_state(q, 4, 4, 1)\n",
    "dw = configs_dw(10, 4)\n",
    "print(np.sum([c[-1][dw[ci]] for ci in dw]) * 16**10)\n",
    "print(trap_bound(q, 4, 4))\n",
    "print()\n",
    "\n",
    "c = coeffs_trap_product_state(q, 4, 6, 1)\n",
    "dw = configs_dw(14, 4)\n",
    "print(np.sum([c[-1][dw[ci]] for ci in dw]) * 16**14)\n",
    "print(trap_bound(q, 4, 6))\n",
    "print()\n",
    "\n",
    "c = coeffs_trap_product_state(q, 4, 8, 1)\n",
    "dw = configs_dw(18, 4)\n",
    "print(np.sum([c[-1][dw[ci]] for ci in dw]) * 16**18)\n",
    "print(trap_bound(q, 4, 8))\n",
    "print()\n",
    "\n",
    "c = coeffs_trap_product_state(q, 4, 10, 1)\n",
    "dw = configs_dw(22, 4)\n",
    "print(np.sum([c[-1][dw[ci]] for ci in dw]) * 16**22)\n",
    "print(trap_bound(q, 4, 10))\n",
    "print()"
   ]
  },
  {
   "cell_type": "code",
   "execution_count": 79,
   "metadata": {},
   "outputs": [
    {
     "name": "stdout",
     "output_type": "stream",
     "text": [
      "6.619154490337659\n",
      "3.196336779517964\n",
      "1.5441982870706867\n",
      "0.7460291166225692\n"
     ]
    }
   ],
   "source": [
    "for l in range(12, 36, 6):\n",
    "    print(trap_bound(q, 4, l))"
   ]
  },
  {
   "cell_type": "code",
   "execution_count": 18,
   "metadata": {},
   "outputs": [
    {
     "name": "stdout",
     "output_type": "stream",
     "text": [
      "0.7112725887999876\n"
     ]
    }
   ],
   "source": [
    "c = coeffs_product_state(2, 16, 2, 1)[-1]\n",
    "print(coeffs_trace_norm_2(c, 16, configs_dw(16, 4)))"
   ]
  },
  {
   "cell_type": "code",
   "execution_count": 8,
   "metadata": {},
   "outputs": [
    {
     "name": "stdout",
     "output_type": "stream",
     "text": [
      "4 2\n",
      "4 4\n",
      "4 6\n",
      "4 8\n",
      "4 10\n",
      "6 2\n",
      "6 4\n",
      "6 6\n",
      "6 8\n",
      "6 10\n",
      "8 2\n",
      "8 4\n",
      "8 6\n",
      "8 8\n",
      "8 10\n"
     ]
    }
   ],
   "source": [
    "q = 4\n",
    "for a in [4, 6, 8]:\n",
    "    for l in [2, 4, 6, 8, 10]:\n",
    "        c = coeffs_trap_product_state(q, a, l, 1)\n",
    "        print(a, l)\n",
    "        f = open('output/coeffs_trap_product_state_' + str(q) + '_' + str(a) + '_' + str(l) + '_1', 'w')\n",
    "        for t in range(len(c)):\n",
    "            f.writelines('%s\\n' % ci for ci in c[t])\n",
    "            f.write('\\n')\n",
    "        f.close()"
   ]
  },
  {
   "cell_type": "code",
   "execution_count": 10,
   "metadata": {},
   "outputs": [
    {
     "name": "stdout",
     "output_type": "stream",
     "text": [
      "4 2\n",
      "4 4\n",
      "4 6\n",
      "4 8\n",
      "4 10\n",
      "6 2\n",
      "6 4\n",
      "6 6\n",
      "6 8\n",
      "6 10\n",
      "8 2\n",
      "8 4\n",
      "8 6\n",
      "8 8\n",
      "8 10\n"
     ]
    }
   ],
   "source": [
    "q = 2\n",
    "for a in [4, 6, 8]:\n",
    "    for l in [2, 4, 6, 8, 10]:\n",
    "        c = coeffs_trap_product_state(q, a, l, 1)\n",
    "        print(a, l)\n",
    "        f = open('output/coeffs_trap_product_state_' + str(q) + '_' + str(a) + '_' + str(l) + '_1', 'w')\n",
    "        for t in range(len(c)):\n",
    "            f.writelines('%s\\n' % ci for ci in c[t])\n",
    "            f.write('\\n')\n",
    "        f.close()"
   ]
  },
  {
   "cell_type": "code",
   "execution_count": 90,
   "metadata": {},
   "outputs": [
    {
     "ename": "KeyboardInterrupt",
     "evalue": "",
     "output_type": "error",
     "traceback": [
      "\u001b[0;31m---------------------------------------------------------------------------\u001b[0m",
      "\u001b[0;31mKeyboardInterrupt\u001b[0m                         Traceback (most recent call last)",
      "\u001b[0;32m<ipython-input-90-217033ff3cb4>\u001b[0m in \u001b[0;36m<module>\u001b[0;34m\u001b[0m\n\u001b[1;32m     23\u001b[0m     \u001b[0mresult\u001b[0m \u001b[0;34m+=\u001b[0m \u001b[0mstr\u001b[0m\u001b[0;34m(\u001b[0m\u001b[0mcoeffs_trace_norm_2\u001b[0m\u001b[0;34m(\u001b[0m\u001b[0mc1\u001b[0m\u001b[0;34m,\u001b[0m \u001b[0mn\u001b[0m\u001b[0;34m,\u001b[0m \u001b[0mdw\u001b[0m\u001b[0;34m)\u001b[0m\u001b[0;34m)\u001b[0m \u001b[0;34m+\u001b[0m \u001b[0;34m','\u001b[0m\u001b[0;34m\u001b[0m\u001b[0;34m\u001b[0m\u001b[0m\n\u001b[1;32m     24\u001b[0m     \u001b[0mresult\u001b[0m \u001b[0;34m+=\u001b[0m \u001b[0mstr\u001b[0m\u001b[0;34m(\u001b[0m\u001b[0mnp\u001b[0m\u001b[0;34m.\u001b[0m\u001b[0msum\u001b[0m\u001b[0;34m(\u001b[0m\u001b[0;34m[\u001b[0m\u001b[0mc2\u001b[0m\u001b[0;34m[\u001b[0m\u001b[0mci\u001b[0m\u001b[0;34m]\u001b[0m \u001b[0;32mfor\u001b[0m \u001b[0mci\u001b[0m \u001b[0;32min\u001b[0m \u001b[0mcc\u001b[0m\u001b[0;34m]\u001b[0m\u001b[0;34m)\u001b[0m \u001b[0;34m*\u001b[0m \u001b[0mq\u001b[0m\u001b[0;34m**\u001b[0m\u001b[0;34m(\u001b[0m\u001b[0;36m2\u001b[0m\u001b[0;34m*\u001b[0m\u001b[0mn\u001b[0m\u001b[0;34m)\u001b[0m\u001b[0;34m)\u001b[0m \u001b[0;34m+\u001b[0m \u001b[0;34m','\u001b[0m\u001b[0;34m\u001b[0m\u001b[0;34m\u001b[0m\u001b[0m\n\u001b[0;32m---> 25\u001b[0;31m     \u001b[0mresult\u001b[0m \u001b[0;34m+=\u001b[0m \u001b[0mstr\u001b[0m\u001b[0;34m(\u001b[0m\u001b[0mcoeffs_trace_norm_2\u001b[0m\u001b[0;34m(\u001b[0m\u001b[0mc2\u001b[0m\u001b[0;34m,\u001b[0m \u001b[0mn\u001b[0m\u001b[0;34m,\u001b[0m \u001b[0mdw\u001b[0m\u001b[0;34m)\u001b[0m\u001b[0;34m)\u001b[0m\u001b[0;34m\u001b[0m\u001b[0;34m\u001b[0m\u001b[0m\n\u001b[0m\u001b[1;32m     26\u001b[0m     \u001b[0;31m#full circuit triangle inequality, 1 norm; trapezoidal circuit triangle inequality, 1 norm\u001b[0m\u001b[0;34m\u001b[0m\u001b[0;34m\u001b[0m\u001b[0;34m\u001b[0m\u001b[0m\n\u001b[1;32m     27\u001b[0m     \u001b[0mtable\u001b[0m\u001b[0;34m.\u001b[0m\u001b[0mappend\u001b[0m\u001b[0;34m(\u001b[0m\u001b[0mresult\u001b[0m\u001b[0;34m)\u001b[0m\u001b[0;34m\u001b[0m\u001b[0;34m\u001b[0m\u001b[0m\n",
      "\u001b[0;32m<ipython-input-57-155c1d9155c5>\u001b[0m in \u001b[0;36mcoeffs_trace_norm_2\u001b[0;34m(c, n, select)\u001b[0m\n\u001b[1;32m     34\u001b[0m             \u001b[0msign\u001b[0m \u001b[0;34m=\u001b[0m \u001b[0;36m1\u001b[0m\u001b[0;34m\u001b[0m\u001b[0;34m\u001b[0m\u001b[0m\n\u001b[1;32m     35\u001b[0m             \u001b[0;32mfor\u001b[0m \u001b[0mi\u001b[0m \u001b[0;32min\u001b[0m \u001b[0mrange\u001b[0m\u001b[0;34m(\u001b[0m\u001b[0mn\u001b[0m\u001b[0;34m)\u001b[0m\u001b[0;34m:\u001b[0m\u001b[0;34m\u001b[0m\u001b[0;34m\u001b[0m\u001b[0m\n\u001b[0;32m---> 36\u001b[0;31m                 \u001b[0;32mif\u001b[0m \u001b[0mev\u001b[0m\u001b[0;34m[\u001b[0m\u001b[0mi\u001b[0m\u001b[0;34m]\u001b[0m \u001b[0;34m==\u001b[0m \u001b[0;34m'1'\u001b[0m \u001b[0;32mand\u001b[0m \u001b[0mci\u001b[0m\u001b[0;34m[\u001b[0m\u001b[0mi\u001b[0m\u001b[0;34m]\u001b[0m \u001b[0;34m==\u001b[0m \u001b[0;34m'1'\u001b[0m\u001b[0;34m:\u001b[0m\u001b[0;34m\u001b[0m\u001b[0;34m\u001b[0m\u001b[0m\n\u001b[0m\u001b[1;32m     37\u001b[0m                     \u001b[0msign\u001b[0m \u001b[0;34m*=\u001b[0m \u001b[0;34m-\u001b[0m\u001b[0;36m1\u001b[0m\u001b[0;34m\u001b[0m\u001b[0;34m\u001b[0m\u001b[0m\n\u001b[1;32m     38\u001b[0m             \u001b[0mcosum\u001b[0m \u001b[0;34m+=\u001b[0m \u001b[0msign\u001b[0m \u001b[0;34m*\u001b[0m \u001b[0mcoeffs\u001b[0m\u001b[0;34m[\u001b[0m\u001b[0mci\u001b[0m\u001b[0;34m]\u001b[0m\u001b[0;34m\u001b[0m\u001b[0;34m\u001b[0m\u001b[0m\n",
      "\u001b[0;31mKeyboardInterrupt\u001b[0m: "
     ]
    }
   ],
   "source": [
    "#compute 1-norm and triangle inequality bound for entire and trapezoid circuits, q = 2, a = 4\n",
    "q = 2\n",
    "a = 4\n",
    "table = []\n",
    "for l in [10]:\n",
    "    n = a + 2*(l-1)\n",
    "    f1 = open('output/coeffs_product_state_' + str(n) + '_10_1', 'r')\n",
    "    c1 = list(map(float, f1.read().split('\\n\\n')[l-1].split('\\n')))\n",
    "    f1.close()\n",
    "    f2 = open('output/coeffs_trap_product_state_' + str(q) + '_' + str(a) + '_' + str(l) + '_1', 'r')\n",
    "    c2 = list(map(float, f2.read().split('\\n\\n')[l-1].split('\\n')))\n",
    "    f2.close()\n",
    "    fc = open('output/configs_dw_' + str(n) + '_' + str(a), 'r')\n",
    "    cc = fc.read().split('\\n')\n",
    "    fc.close()\n",
    "    cc.pop()\n",
    "    cc = list(map(int, cc))\n",
    "    dw = {}\n",
    "    for ci in cc:\n",
    "        dw[format(ci, '0'+str(n)+'b')] = ci\n",
    "    result = ''\n",
    "    result += str(np.sum([c1[ci] for ci in cc]) * q**(2*n)) + ','\n",
    "    result += str(coeffs_trace_norm_2(c1, n, dw)) + ','\n",
    "    result += str(np.sum([c2[ci] for ci in cc]) * q**(2*n)) + ','\n",
    "    result += str(coeffs_trace_norm_2(c2, n, dw))\n",
    "    #full circuit triangle inequality, 1 norm; trapezoidal circuit triangle inequality, 1 norm\n",
    "    table.append(result)\n",
    "    print(result)\n",
    "f = open('output/compare_2_4', 'a')\n",
    "f.writelines('%s\\n' % e for e in table)\n",
    "f.close()"
   ]
  },
  {
   "cell_type": "code",
   "execution_count": 91,
   "metadata": {},
   "outputs": [
    {
     "data": {
      "text/plain": [
       "'0.10230206107256114,0.01722551266379886,0.5524194375533759,'"
      ]
     },
     "execution_count": 91,
     "metadata": {},
     "output_type": "execute_result"
    }
   ],
   "source": [
    "result"
   ]
  },
  {
   "cell_type": "code",
   "execution_count": null,
   "metadata": {},
   "outputs": [],
   "source": [
    "#compute 1-norm for entire and trapezoid circuits, q = 2, a = 6\n",
    "q = 2\n",
    "a = 6\n",
    "table = []\n",
    "for l in [2, 4, 6, 8, 10]:\n",
    "    n = a + 2*(l-1)\n",
    "    f1 = open('output/coeffs_product_state_' + str(n) + '_10_1', 'r')\n",
    "    c1 = list(map(float, f1.read().split('\\n\\n')[l-1].split('\\n')))\n",
    "    f1.close()\n",
    "    f2 = open('output/coeffs_trap_product_state_' + str(q) + '_' + str(a) + '_' + str(l) + '_1', 'r')\n",
    "    c2 = list(map(float, f2.read().split('\\n\\n')[l-1].split('\\n')))\n",
    "    f2.close()\n",
    "    fc = open('output/configs_dw_' + str(n) + '_' + str(a), 'r')\n",
    "    cc = fc.read().split('\\n')\n",
    "    fc.close()\n",
    "    cc.pop()\n",
    "    cc = list(map(int, cc))\n",
    "    dw = {}\n",
    "    for ci in cc:\n",
    "        dw[format(ci, '0'+str(n)+'b')] = ci\n",
    "    result = ''\n",
    "    result += str(np.sum([c1[ci] for ci in cc]) * q**(2*n)) + ','\n",
    "    result += str(coeffs_trace_norm_2(c1, n, dw)) + ','\n",
    "    print()\n",
    "    result += str(np.sum([c2[ci] for ci in cc]) * q**(2*n)) + ','\n",
    "    result += str(coeffs_trace_norm_2(c2, n, dw))\n",
    "    #full circuit triangle inequality, 1 norm; trapezoidal circuit triangle inequality, 1 norm\n",
    "    table.append(result)\n",
    "    print(result)\n",
    "with f as open('output/compare_' + str(q) + '_' + str(a), 'w'):\n",
    "    f.writelines('%s\\n' % e for e in table)"
   ]
  },
  {
   "cell_type": "code",
   "execution_count": 92,
   "metadata": {},
   "outputs": [
    {
     "name": "stdout",
     "output_type": "stream",
     "text": [
      "\n",
      "0.00024052553377097496,6.698494303456092e-16,0.01588693145550357,-1\n",
      "\n",
      "1.5011671607365877e-05,1.4640480452118844e-19,0.0036040471887592036,-1\n"
     ]
    }
   ],
   "source": [
    "#compute 1-norm for trapezoid circuit, q = 4, a = 4\n",
    "q = 4\n",
    "a = 4\n",
    "table = []\n",
    "for l in [8, 10]:\n",
    "    n = a + 2*(l-1)\n",
    "    c1 = coeffs_product_state(q, n, l, 1)[-1]\n",
    "    f2 = open('output/coeffs_trap_product_state_' + str(q) + '_' + str(a) + '_' + str(l) + '_1', 'r')\n",
    "    c2 = list(map(float, f2.read().split('\\n\\n')[l-1].split('\\n')))\n",
    "    f2.close()\n",
    "    fc = open('output/configs_dw_' + str(n) + '_' + str(a), 'r')\n",
    "    cc = fc.read().split('\\n')\n",
    "    fc.close()\n",
    "    cc.pop()\n",
    "    cc = list(map(int, cc))\n",
    "    dw = {}\n",
    "    for ci in cc:\n",
    "        dw[format(ci, '0'+str(n)+'b')] = ci\n",
    "    result = ''\n",
    "    result += str(np.sum([c1[ci] for ci in cc]) * q**(2*n)) + ','\n",
    "    result += str(coeffs_trace_norm_2(c1, n, dw)) + ','\n",
    "    print()\n",
    "    result += str(np.sum([c2[ci] for ci in cc]) * q**(2*n)) + ','\n",
    "    #result += str(coeffs_trace_norm_2(c2, n, dw))\n",
    "    result += '-1'\n",
    "    #full circuit triangle inequality, 1 norm; trapezoidal circuit triangle inequality, 1 norm\n",
    "    table.append(result)\n",
    "    print(result)\n",
    "f = open('output/compare_' + str(q) + '_' + str(a), 'a')\n",
    "f.writelines('%s\\n' % e for e in table)\n",
    "f.close()"
   ]
  },
  {
   "cell_type": "code",
   "execution_count": 88,
   "metadata": {},
   "outputs": [
    {
     "name": "stdout",
     "output_type": "stream",
     "text": [
      "\n",
      "0.12226855948980012,1.272172601128958e-09,0.5915592743218699,5.112783835594321e-09\n",
      "\n"
     ]
    },
    {
     "ename": "KeyboardInterrupt",
     "evalue": "",
     "output_type": "error",
     "traceback": [
      "\u001b[0;31m---------------------------------------------------------------------------\u001b[0m",
      "\u001b[0;31mKeyboardInterrupt\u001b[0m                         Traceback (most recent call last)",
      "\u001b[0;32m<ipython-input-88-0879f684e8cf>\u001b[0m in \u001b[0;36m<module>\u001b[0;34m\u001b[0m\n\u001b[1;32m     23\u001b[0m     \u001b[0mprint\u001b[0m\u001b[0;34m(\u001b[0m\u001b[0;34m)\u001b[0m\u001b[0;34m\u001b[0m\u001b[0;34m\u001b[0m\u001b[0m\n\u001b[1;32m     24\u001b[0m     \u001b[0mresult\u001b[0m \u001b[0;34m+=\u001b[0m \u001b[0mstr\u001b[0m\u001b[0;34m(\u001b[0m\u001b[0mnp\u001b[0m\u001b[0;34m.\u001b[0m\u001b[0msum\u001b[0m\u001b[0;34m(\u001b[0m\u001b[0;34m[\u001b[0m\u001b[0mc2\u001b[0m\u001b[0;34m[\u001b[0m\u001b[0mci\u001b[0m\u001b[0;34m]\u001b[0m \u001b[0;32mfor\u001b[0m \u001b[0mci\u001b[0m \u001b[0;32min\u001b[0m \u001b[0mcc\u001b[0m\u001b[0;34m]\u001b[0m\u001b[0;34m)\u001b[0m \u001b[0;34m*\u001b[0m \u001b[0mq\u001b[0m\u001b[0;34m**\u001b[0m\u001b[0;34m(\u001b[0m\u001b[0;36m2\u001b[0m\u001b[0;34m*\u001b[0m\u001b[0mn\u001b[0m\u001b[0;34m)\u001b[0m\u001b[0;34m)\u001b[0m \u001b[0;34m+\u001b[0m \u001b[0;34m','\u001b[0m\u001b[0;34m\u001b[0m\u001b[0;34m\u001b[0m\u001b[0m\n\u001b[0;32m---> 25\u001b[0;31m     \u001b[0mresult\u001b[0m \u001b[0;34m+=\u001b[0m \u001b[0mstr\u001b[0m\u001b[0;34m(\u001b[0m\u001b[0mcoeffs_trace_norm_2\u001b[0m\u001b[0;34m(\u001b[0m\u001b[0mc2\u001b[0m\u001b[0;34m,\u001b[0m \u001b[0mn\u001b[0m\u001b[0;34m,\u001b[0m \u001b[0mdw\u001b[0m\u001b[0;34m)\u001b[0m\u001b[0;34m)\u001b[0m\u001b[0;34m\u001b[0m\u001b[0;34m\u001b[0m\u001b[0m\n\u001b[0m\u001b[1;32m     26\u001b[0m     \u001b[0;31m#full circuit triangle inequality, 1 norm; trapezoidal circuit triangle inequality, 1 norm\u001b[0m\u001b[0;34m\u001b[0m\u001b[0;34m\u001b[0m\u001b[0;34m\u001b[0m\u001b[0m\n\u001b[1;32m     27\u001b[0m     \u001b[0mtable\u001b[0m\u001b[0;34m.\u001b[0m\u001b[0mappend\u001b[0m\u001b[0;34m(\u001b[0m\u001b[0mresult\u001b[0m\u001b[0;34m)\u001b[0m\u001b[0;34m\u001b[0m\u001b[0;34m\u001b[0m\u001b[0m\n",
      "\u001b[0;32m<ipython-input-57-155c1d9155c5>\u001b[0m in \u001b[0;36mcoeffs_trace_norm_2\u001b[0;34m(c, n, select)\u001b[0m\n\u001b[1;32m     34\u001b[0m             \u001b[0msign\u001b[0m \u001b[0;34m=\u001b[0m \u001b[0;36m1\u001b[0m\u001b[0;34m\u001b[0m\u001b[0;34m\u001b[0m\u001b[0m\n\u001b[1;32m     35\u001b[0m             \u001b[0;32mfor\u001b[0m \u001b[0mi\u001b[0m \u001b[0;32min\u001b[0m \u001b[0mrange\u001b[0m\u001b[0;34m(\u001b[0m\u001b[0mn\u001b[0m\u001b[0;34m)\u001b[0m\u001b[0;34m:\u001b[0m\u001b[0;34m\u001b[0m\u001b[0;34m\u001b[0m\u001b[0m\n\u001b[0;32m---> 36\u001b[0;31m                 \u001b[0;32mif\u001b[0m \u001b[0mev\u001b[0m\u001b[0;34m[\u001b[0m\u001b[0mi\u001b[0m\u001b[0;34m]\u001b[0m \u001b[0;34m==\u001b[0m \u001b[0;34m'1'\u001b[0m \u001b[0;32mand\u001b[0m \u001b[0mci\u001b[0m\u001b[0;34m[\u001b[0m\u001b[0mi\u001b[0m\u001b[0;34m]\u001b[0m \u001b[0;34m==\u001b[0m \u001b[0;34m'1'\u001b[0m\u001b[0;34m:\u001b[0m\u001b[0;34m\u001b[0m\u001b[0;34m\u001b[0m\u001b[0m\n\u001b[0m\u001b[1;32m     37\u001b[0m                     \u001b[0msign\u001b[0m \u001b[0;34m*=\u001b[0m \u001b[0;34m-\u001b[0m\u001b[0;36m1\u001b[0m\u001b[0;34m\u001b[0m\u001b[0;34m\u001b[0m\u001b[0m\n\u001b[1;32m     38\u001b[0m             \u001b[0mcosum\u001b[0m \u001b[0;34m+=\u001b[0m \u001b[0msign\u001b[0m \u001b[0;34m*\u001b[0m \u001b[0mcoeffs\u001b[0m\u001b[0;34m[\u001b[0m\u001b[0mci\u001b[0m\u001b[0;34m]\u001b[0m\u001b[0;34m\u001b[0m\u001b[0;34m\u001b[0m\u001b[0m\n",
      "\u001b[0;31mKeyboardInterrupt\u001b[0m: "
     ]
    }
   ],
   "source": [
    "#compute 1-norm for trapezoid circuit, q = 4, a = 6\n",
    "#minimum depth for q = 4, a = 6 is l = 3\n",
    "q = 4\n",
    "a = 6\n",
    "table = []\n",
    "for l in [4, 6, 8, 10]:\n",
    "    n = a + 2*(l-1)\n",
    "    c1 = coeffs_product_state(q, n, l, 1)[-1]\n",
    "    f2 = open('output/coeffs_trap_product_state_' + str(q) + '_' + str(a) + '_' + str(l) + '_1', 'r')\n",
    "    c2 = list(map(float, f2.read().split('\\n\\n')[l-1].split('\\n')))\n",
    "    f2.close()\n",
    "    fc = open('output/configs_dw_' + str(n) + '_' + str(a), 'r')\n",
    "    cc = fc.read().split('\\n')\n",
    "    fc.close()\n",
    "    cc.pop()\n",
    "    cc = list(map(int, cc))\n",
    "    dw = {}\n",
    "    for ci in cc:\n",
    "        dw[format(ci, '0'+str(n)+'b')] = ci\n",
    "    result = ''\n",
    "    result += str(np.sum([c1[ci] for ci in cc]) * q**(2*n)) + ','\n",
    "    result += str(coeffs_trace_norm_2(c1, n, dw)) + ','\n",
    "    print()\n",
    "    result += str(np.sum([c2[ci] for ci in cc]) * q**(2*n)) + ','\n",
    "    result += str(coeffs_trace_norm_2(c2, n, dw))\n",
    "    #full circuit triangle inequality, 1 norm; trapezoidal circuit triangle inequality, 1 norm\n",
    "    table.append(result)\n",
    "    print(result)\n",
    "f = open('output/compare_' + str(q) + '_' + str(a), 'w')\n",
    "f.writelines('%s\\n' % e for e in table)\n",
    "f.close()"
   ]
  },
  {
   "cell_type": "code",
   "execution_count": 125,
   "metadata": {},
   "outputs": [],
   "source": [
    "import matplotlib.pyplot as plt\n",
    "import matplotlib.font_manager"
   ]
  },
  {
   "cell_type": "code",
   "execution_count": 142,
   "metadata": {},
   "outputs": [
    {
     "data": {
      "text/plain": [
       "<Figure size 432x288 with 0 Axes>"
      ]
     },
     "metadata": {},
     "output_type": "display_data"
    },
    {
     "data": {
      "image/png": "[encoded data removed]",
      "text/plain": [
       "<Figure size 500x500 with 1 Axes>"
      ]
     },
     "metadata": {
      "needs_background": "light"
     },
     "output_type": "display_data"
    }
   ],
   "source": [
    "#plot 1-norm and triangle inequality bound for entire and trapezoid circuits, q = 2, a = 4\n",
    "q = 2\n",
    "a = 4\n",
    "table = []\n",
    "f = open('output/compare_' + str(q) + '_' + str(a), 'r')\n",
    "for row in [2, 4, 6, 8, 10]:\n",
    "    table.append(list(map(float, f.readline().split(','))))\n",
    "f.close()\n",
    "plt.clf()\n",
    "fig, ax = plt.subplots()\n",
    "ax.spines['right'].set_visible(False)\n",
    "ax.spines['top'].set_visible(False)\n",
    "plt.plot([2, 4, 6, 8, 10], [row[1] for row in table], color='b', linewidth=1.5)\n",
    "plt.plot([2, 4, 6, 8, 10], [row[2] for row in table], color='r', linewidth=1.5)\n",
    "plt.xlabel('Circuit depth')\n",
    "#plt.ylabel('Label')\n",
    "#plt.title('Title')\n",
    "fig.set_size_inches(5, 5)\n",
    "fig.set_dpi(100)\n",
    "frame = plt.gca()\n",
    "#frame.axes.get_yaxis().set_visible(False)\n",
    "plt.rcParams.update({'text.usetex': False})\n",
    "plt.rcParams.update({'font.size': 16})\n",
    "plt.rcParams.update({'font.family': 'cmss10'})\n",
    "#plt.rcParams.update({'font.family': 'cmr10'})\n",
    "#plt.grid(True)\n",
    "#plt.legend(bbox_to_anchor=(1, 1), loc='upper right')\n",
    "plt.ylim([0, 1.25])\n",
    "plt.yticks([0.2, 0.4, 0.6, 0.8, 1, 1.2])\n",
    "plt.text(8.5, 0.75, r'$||\\cdot||$', horizontalalignment='left')\n",
    "plt.text(8.5, 0.1, 'asdf', horizontalalignment='left')\n",
    "#plt.xlim([2, 10.5])\n",
    "plt.show()\n",
    "#plt.savefig('plots/compare_2_4.pdf', bbox_inches='tight', pad_inches=0, transparent=True)"
   ]
  },
  {
   "cell_type": "code",
   "execution_count": null,
   "metadata": {},
   "outputs": [],
   "source": [
    "#plot triangle inequality bound, 1-norm, and analytic bound for trapezoid circuit, q = 4, a = 4\n",
    "q = 4\n",
    "a = 4\n",
    "table = []\n",
    "f = open('output/compare_' + str(q) + '_' + str(a), 'r')\n",
    "for row in [2, 4, 6, 8, 10]:\n",
    "    table.append(list(map(float, f.readline().split(','))))\n",
    "f.close()\n",
    "plt.clf()\n",
    "fig, ax = plt.subplots()\n",
    "ax.spines['right'].set_visible(False)\n",
    "ax.spines['top'].set_visible(False)\n",
    "plt.plot([2, 4, 6, 8, 10], [row[1] for row in table], color='b', linewidth=1.5)\n",
    "plt.plot([2, 4, 6, 8, 10], [row[2] for row in table], color='r', linewidth=1.5)\n",
    "plt.xlabel('Circuit depth')\n",
    "#plt.ylabel('Label')\n",
    "#plt.title('Title')\n",
    "fig.set_size_inches(5, 5)\n",
    "fig.set_dpi(100)\n",
    "frame = plt.gca()\n",
    "#frame.axes.get_yaxis().set_visible(False)\n",
    "plt.rcParams.update({'font.size': 16})\n",
    "plt.rcParams.update({'font.family': 'cmss10'})\n",
    "#plt.rcParams.update({'font.family': 'cmr10'})\n",
    "#plt.grid(True)\n",
    "#plt.legend(bbox_to_anchor=(1, 0.85), loc='upper right')\n",
    "#plt.text(85, 1, 'n = 3', horizontalalignment='left')\n",
    "#plt.text(85, 2.5, 'n = 4', horizontalalignment='left')\n",
    "#plt.text(85, 5.1, 'n = 5', horizontalalignment='left')\n",
    "#plt.ylim([0, 1.25])\n",
    "#plt.yticks([0.2, 0.4, 0.6, 0.8, 1, 1.2])\n",
    "#plt.xlim([2, 10.5])\n",
    "#plt.show()\n",
    "plt.savefig('plots/compare_4_4.pdf', bbox_inches='tight', pad_inches=0, transparent=True)"
   ]
  },
  {
   "cell_type": "code",
   "execution_count": null,
   "metadata": {},
   "outputs": [],
   "source": []
  }
 ],
 "metadata": {
  "kernelspec": {
   "display_name": "Python 3",
   "language": "python",
   "name": "python3"
  },
  "language_info": {
   "codemirror_mode": {
    "name": "ipython",
    "version": 3
   },
   "file_extension": ".py",
   "mimetype": "text/x-python",
   "name": "python",
   "nbconvert_exporter": "python",
   "pygments_lexer": "ipython3",
   "version": "3.7.4"
  }
 },
 "nbformat": 4,
 "nbformat_minor": 2
}
